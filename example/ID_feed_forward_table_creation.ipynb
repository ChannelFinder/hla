{
 "metadata": {
  "name": "",
  "signature": "sha256:fe818889eaf08f5451a5b2f0dfd425090d95cee5935f3c09091dfec08523a7b1"
 },
 "nbformat": 3,
 "nbformat_minor": 0,
 "worksheets": [
  {
   "cells": [
    {
     "cell_type": "heading",
     "level": 1,
     "metadata": {},
     "source": [
      "ID feed forward table creation"
     ]
    },
    {
     "cell_type": "heading",
     "level": 2,
     "metadata": {},
     "source": [
      "Date: 9/24/2014\n",
      "Author: Yongjun Li, Yoshi Hidaka, Lingyun Yang"
     ]
    },
    {
     "cell_type": "code",
     "collapsed": false,
     "input": [
      "%matplotlib inline"
     ],
     "language": "python",
     "metadata": {},
     "outputs": [],
     "prompt_number": 1
    },
    {
     "cell_type": "code",
     "collapsed": false,
     "input": [
      "import time\n",
      "import matplotlib.pylab as plt\n",
      "import numpy as np\n",
      "import scipy as sp\n",
      "import copy\n",
      "import h5py\n",
      "\n",
      "# --- Lingyun's aphla\n",
      "import aphla as ap\n",
      "ap.machines.load('nsls2', 'SR')"
     ],
     "language": "python",
     "metadata": {},
     "outputs": [
      {
       "output_type": "stream",
       "stream": "stderr",
       "text": [
        "WARNING:aphla.unitconv:'dw100g1c18u' has no field 'gap' for unit conversion\n"
       ]
      },
      {
       "output_type": "stream",
       "stream": "stderr",
       "text": [
        "WARNING:aphla.unitconv:'dw100g1c18d' has no field 'gap' for unit conversion\n"
       ]
      },
      {
       "output_type": "stream",
       "stream": "stderr",
       "text": [
        "WARNING:aphla.unitconv:'dw100g1c18u' has no field 'gapd' for unit conversion\n"
       ]
      },
      {
       "output_type": "stream",
       "stream": "stderr",
       "text": [
        "WARNING:aphla.unitconv:'dw100g1c18d' has no field 'gapd' for unit conversion\n"
       ]
      },
      {
       "output_type": "stream",
       "stream": "stderr",
       "text": [
        "WARNING:aphla.unitconv:'dw100g1c18u' has no field 'gapu' for unit conversion\n"
       ]
      },
      {
       "output_type": "stream",
       "stream": "stderr",
       "text": [
        "WARNING:aphla.unitconv:'dw100g1c18d' has no field 'gapu' for unit conversion\n"
       ]
      }
     ],
     "prompt_number": 2
    },
    {
     "cell_type": "code",
     "collapsed": false,
     "input": [
      "from datetime import datetime"
     ],
     "language": "python",
     "metadata": {},
     "outputs": [],
     "prompt_number": 3
    },
    {
     "cell_type": "code",
     "collapsed": false,
     "input": [
      "import nsls2id"
     ],
     "language": "python",
     "metadata": {},
     "outputs": [],
     "prompt_number": 4
    },
    {
     "cell_type": "code",
     "collapsed": false,
     "input": [
      "reload(nsls2id)"
     ],
     "language": "python",
     "metadata": {},
     "outputs": [
      {
       "metadata": {},
       "output_type": "pyout",
       "prompt_number": 5,
       "text": [
        "<module 'nsls2id' from 'nsls2id.pyc'>"
       ]
      }
     ],
     "prompt_number": 5
    },
    {
     "cell_type": "code",
     "collapsed": false,
     "input": [
      "# Body of commissioning\n",
      "\n",
      "import sys\n",
      "\n",
      "# parameter List, will read from DB or specified by user\n",
      "IDName = 'dw100g1c08u'\n",
      "#--- get ID instance\n",
      "ID = ap.getElements(IDName)[0]\n",
      "\n",
      "nsls2id._params[IDName][\"gap\"] = (145, 147, 3, 0.1)\n",
      "motorRate = 1000.0\n",
      "#parRange =[['gap','log',gapMax,gapMin,gapStep,gapTol],\n",
      "#           ['phase','linear',phaseMax,phaseMin,phaseStep,phaseTol]]\n",
      "#nbkgrd = 10  # redo background check after nbkgrd iterative status\n",
      "userBPM = False # if user BPM included\n",
      "\n",
      "#--- create parameter list for loop, name and table for hdf5 \n",
      "parList,parName,parTable = nsls2id.createParList(ID, [('gap', 'log'), ('phase', 'linear')])\n",
      "for pl in parList:\n",
      "    print pl\n",
      "print parName\n",
      "print parTable\n",
      "outputFile = nsls2id.initFile(ID, parName, parTable)"
     ],
     "language": "python",
     "metadata": {},
     "outputs": [
      {
       "output_type": "stream",
       "stream": "stdout",
       "text": [
        "[['gap', 144.99999999999997, 0.1]]\n",
        "[['gap', 145.99657530229945, 0.1]]\n",
        "[['gap', 146.99999999999997, 0.1]]\n",
        "['gap']\n",
        "[[ 145.       ]\n",
        " [ 145.9965753]\n",
        " [ 147.       ]]\n"
       ]
      }
     ],
     "prompt_number": 6
    },
    {
     "cell_type": "code",
     "collapsed": false,
     "input": [
      "### pre-check ###\n",
      "\n",
      "#--- switch off other orbit feedback\n",
      "nsls2id.switchFeedback(fftable=\"off\")\n",
      "#nsls2id.switchFeedback(fftable=\"on\")\n",
      "# fast/slow co\n",
      "# all ID feed forward\n"
     ],
     "language": "python",
     "metadata": {},
     "outputs": [
      {
       "output_type": "stream",
       "stream": "stdout",
       "text": [
        "set SR:C08-ID:G1{DW100:1}MPS:Lookup_.INPA='SR:C08-ID:G1{DW100:1-Mtr:Gap}.RBV NPP N'\n",
        "set SR:C08-ID:G1{DW100:2}MPS:Lookup_.INPA='SR:C08-ID:G1{DW100:2-Mtr:Gap}.RBV NPP N'\n",
        "WARNING: no 'gap' field in dw100g1c18u"
       ]
      },
      {
       "output_type": "stream",
       "stream": "stdout",
       "text": [
        "\n",
        "WARNING: no 'gap' field in dw100g1c18d\n",
        "set SR:C28-ID:G1{DW100:1}MPS:Lookup_.INPA='SR:C28-ID:G1{DW100:1-Mtr:Gap}.RBV NPP N'\n",
        "set SR:C28-ID:G1{DW100:2}MPS:Lookup_.INPA='SR:C28-ID:G1{DW100:2-Mtr:Gap}.RBV NPP N'\n"
       ]
      }
     ],
     "prompt_number": 7
    },
    {
     "cell_type": "code",
     "collapsed": false,
     "input": [
      "# weixing Bunch by Bunch\n",
      "\n",
      "#--- check beam conditions\n",
      "if not nsls2id.checkBeam():\n",
      "    raise RuntimeError(\"Beam has low current or lifetime.\")"
     ],
     "language": "python",
     "metadata": {},
     "outputs": [
      {
       "output_type": "stream",
       "stream": "stdout",
       "text": [
        "Beam current too low (0.0206284521597 < 2)\n"
       ]
      },
      {
       "ename": "RuntimeError",
       "evalue": "Beam has low current or lifetime.",
       "output_type": "pyerr",
       "traceback": [
        "\u001b[1;31m---------------------------------------------------------------------------\u001b[0m\n\u001b[1;31mRuntimeError\u001b[0m                              Traceback (most recent call last)",
        "\u001b[1;32m<ipython-input-9-161624f07948>\u001b[0m in \u001b[0;36m<module>\u001b[1;34m()\u001b[0m\n\u001b[0;32m      3\u001b[0m \u001b[1;31m#--- check beam conditions\u001b[0m\u001b[1;33m\u001b[0m\u001b[1;33m\u001b[0m\u001b[0m\n\u001b[0;32m      4\u001b[0m \u001b[1;32mif\u001b[0m \u001b[1;32mnot\u001b[0m \u001b[0mnsls2id\u001b[0m\u001b[1;33m.\u001b[0m\u001b[0mcheckBeam\u001b[0m\u001b[1;33m(\u001b[0m\u001b[1;33m)\u001b[0m\u001b[1;33m:\u001b[0m\u001b[1;33m\u001b[0m\u001b[0m\n\u001b[1;32m----> 5\u001b[1;33m     \u001b[1;32mraise\u001b[0m \u001b[0mRuntimeError\u001b[0m\u001b[1;33m(\u001b[0m\u001b[1;34m\"Beam has low current or lifetime.\"\u001b[0m\u001b[1;33m)\u001b[0m\u001b[1;33m\u001b[0m\u001b[0m\n\u001b[0m",
        "\u001b[1;31mRuntimeError\u001b[0m: Beam has low current or lifetime."
       ]
      }
     ],
     "prompt_number": 9
    },
    {
     "cell_type": "code",
     "collapsed": false,
     "input": [
      "#--- check ID gap and phase control\n",
      "if not nsls2id.checkGapPhase(ID, verbose=1, gapStep=5):\n",
      "    raise RuntimeError(\"failed at checking ID '{0}' status\".format(ID.name))"
     ],
     "language": "python",
     "metadata": {},
     "outputs": [
      {
       "output_type": "stream",
       "stream": "stderr",
       "text": [
        "ERROR:aphla.element:error on reading PV limits SR:C08-ID:G1{DW100:1}Man:SP:Gap\n"
       ]
      },
      {
       "output_type": "stream",
       "stream": "stderr",
       "text": [
        "ERROR:aphla.element:error on reading PV limits SR:C08-ID:G1{DW100:1}ManG:Go_.PROC\n"
       ]
      }
     ],
     "prompt_number": 8
    },
    {
     "cell_type": "code",
     "collapsed": false,
     "input": [
      "nsls2id.putBackground(ID, timeout=150,throw=True,unitsys='phy',verbose=1)"
     ],
     "language": "python",
     "metadata": {},
     "outputs": [
      {
       "output_type": "stream",
       "stream": "stderr",
       "text": [
        "ERROR:aphla.element:error on reading PV limits SR:C08-ID:G1{DW100:1}MPS:ch0:setpoint\n"
       ]
      },
      {
       "output_type": "stream",
       "stream": "stderr",
       "text": [
        "ERROR:aphla.element:error on reading PV limits SR:C08-ID:G1{DW100:1}MPS:ch1:setpoint\n"
       ]
      },
      {
       "output_type": "stream",
       "stream": "stderr",
       "text": [
        "ERROR:aphla.element:error on reading PV limits SR:C08-ID:G1{DW100:1}MPS:ch2:setpoint\n"
       ]
      },
      {
       "output_type": "stream",
       "stream": "stderr",
       "text": [
        "ERROR:aphla.element:error on reading PV limits SR:C08-ID:G1{DW100:1}MPS:ch3:setpoint\n"
       ]
      },
      {
       "output_type": "stream",
       "stream": "stderr",
       "text": [
        "ERROR:aphla.element:error on reading PV limits SR:C08-ID:G1{DW100:1}MPS:ch4:setpoint\n"
       ]
      },
      {
       "output_type": "stream",
       "stream": "stderr",
       "text": [
        "ERROR:aphla.element:error on reading PV limits SR:C08-ID:G1{DW100:1}MPS:ch5:setpoint\n"
       ]
      },
      {
       "metadata": {},
       "output_type": "pyout",
       "prompt_number": 10,
       "text": [
        "True"
       ]
      }
     ],
     "prompt_number": 10
    },
    {
     "cell_type": "code",
     "collapsed": false,
     "input": [
      "#--- BPM and on-board corrector list for orbit ORM measurement\n",
      "userBPM = False\n",
      "bpms = ap.getElements('BPM')\n",
      "if userBPM: bpms += ap.getElements('UBPM')\n",
      "bpmflds = []\n",
      "for bpm in bpms:\n",
      "    bpmflds.append([bpm,'x'])\n",
      "    bpmflds.append([bpm,'y'])\n",
      "\n",
      "corflds = nsls2id.createCorrectorField(ID)\n",
      "print corflds\n",
      "print len(bpms)"
     ],
     "language": "python",
     "metadata": {},
     "outputs": [
      {
       "output_type": "stream",
       "stream": "stdout",
       "text": [
        "[(dw100g1c08u:DW @ sb=207.598000, 'cch0'), (dw100g1c08u:DW @ sb=207.598000, 'cch1'), (dw100g1c08u:DW @ sb=207.598000, 'cch2'), (dw100g1c08u:DW @ sb=207.598000, 'cch3'), (dw100g1c08u:DW @ sb=207.598000, 'cch4'), (dw100g1c08u:DW @ sb=207.598000, 'cch5')]\n",
        "180\n"
       ]
      }
     ],
     "prompt_number": 11
    },
    {
     "cell_type": "code",
     "collapsed": false,
     "input": [
      "obt = ap.getOrbit(spos=True)\n",
      "plt.plot(obt[:,-1], obt[:,0], '-')"
     ],
     "language": "python",
     "metadata": {},
     "outputs": [
      {
       "metadata": {},
       "output_type": "pyout",
       "prompt_number": 12,
       "text": [
        "[<matplotlib.lines.Line2D at 0x7613d10>]"
       ]
      },
      {
       "metadata": {},
       "output_type": "display_data",
       "png": "[encoded data removed]",
       "text": [
        "<matplotlib.figure.Figure at 0x9e98650>"
       ]
      }
     ],
     "prompt_number": 12
    },
    {
     "cell_type": "code",
     "collapsed": false,
     "input": [
      "# --- begin main loop\n",
      "bkgIndex, bkgGroup = 0, None\n",
      "nbkgrd = 10 # save backgroud every 10 points\n",
      "igroup = 0\n",
      "dispersion = False\n",
      "Tbt = False\n",
      "\n",
      "for niter,par in enumerate(parList):\n",
      "    #--- print progress\n",
      "    print '%03i/%03i:'% (niter,len(parList)), par\n",
      "    #--- check beam for condition every status\n",
      "    #if not nsls2id.checkBeam(Imin=Imin,Tmin=Tmin):\n",
      "    #   break\n",
      "    #--- check if re-calibration of golden orbit\n",
      "    if np.mod(niter,nbkgrd) == 0:\n",
      "        if not nsls2id.putBackground(ID):\n",
      "            print \"Failed at setting {0} to background mode\".format(ID)\n",
      "            break\n",
      "        \n",
      "        # create background subgroup with index\n",
      "        fid = h5py.File(outputFile)\n",
      "        bkgGroup = \"background_%04d\" % bkgIndex\n",
      "        while bkgGroup in fid[ID.name]:\n",
      "            bkgIndex += 1\n",
      "            bkgGroup = \"background_%04d\" % bkgIndex\n",
      "        grp = fid[ID.name].create_group(bkgGroup)\n",
      "        orb0 = ap.getOrbit(spos=True)\n",
      "        grp[\"orbit\"] = orb0\n",
      "        tau, I = ap.getLifetimeCurrent()\n",
      "        grp[\"lifetime\"] = tau\n",
      "        grp[\"current\"] = I\n",
      "        grp.attrs[\"iter\"] = niter\n",
      "        fid.close()\n",
      "        \n",
      "    #--- put parameters, then measure ORM of on-board corrector, implement correction\n",
      "    #--- measure TbT data, save data\n",
      "    if not nsls2id.putPar(ID, par):\n",
      "        print \"Failed at setting {0}\".format(par)\n",
      "        break\n",
      "\n",
      "    fid = h5py.File(outputFile)\n",
      "    grpname = \"iter_%04d\" % igroup\n",
      "    while grpname in fid[ID.name]:\n",
      "        igroup += 1\n",
      "        grpname = \"iter_%04d\" % igroup\n",
      "    grp = fid[ID.name].create_group(grpname)\n",
      "    fid.close()\n",
      "        \n",
      "    # --- Lingyun's contribution later\n",
      "    rm = ap.measOrbitRm(bpmflds, corflds, dxmax=3, output=outputFile, h5group=\"%s/%s/orm\" % (ID.name, grpname))\n",
      "    orb1 = ap.getOrbit(spos=False)\n",
      "    #ap.corrOrbit(orb1-orb0,rm)\n",
      "    \n",
      "    if Tbt:\n",
      "        #trig pinger\n",
      "        (name, x, y, Isum, ts, offset), tbtoutput = ap.nsls2.getSrBpmData(output=True, trig=1, count=2000)\n",
      "    if dispersion:\n",
      "        ap.measDispersion(output=outputFile, h5group=\"%s/%s/dispersion\" % (ID.name, grpname))\n",
      "    \n",
      "    t1 = datetime.now()    \n",
      "    fid = h5py.File(outputFile)\n",
      "    grp = fid[ID.name][grpname]\n",
      "    grp.attrs[\"iteration\"] = niter\n",
      "    grp.attrs[\"background\"] = bkgGroup\n",
      "    grp[\"tune\"] = ap.getTunes()\n",
      "    grp[\"orbit\"] = orb1\n",
      "    if Tbt:\n",
      "        grp.attrs[\"Tbt\"] = tbtoutput\n",
      "    grp['controlCurrent'] = ID.cch\n",
      "    grp.attrs[\"completed\"] = t1.strftime(\"%Y-%m-%d %H:%M:%S.%f\")\n",
      "    fid.close()\n"
     ],
     "language": "python",
     "metadata": {},
     "outputs": [
      {
       "output_type": "stream",
       "stream": "stderr",
       "text": [
        "WARNING:aphla.aptools:Timeout at dw100g1c08u.cch0= -3.0, i= 0, delta= -3.0\n"
       ]
      },
      {
       "output_type": "stream",
       "stream": "stdout",
       "text": [
        "000/003: [['gap', 144.99999999999997, 0.1]]\n",
        "dw100g1c08u.cch0= 0"
       ]
      },
      {
       "output_type": "stream",
       "stream": "stdout",
       "text": [
        "\n"
       ]
      },
      {
       "output_type": "stream",
       "stream": "stderr",
       "text": [
        "WARNING:aphla.aptools:Timeout at dw100g1c08u.cch0= -1.0, i= 1, delta= -1.0\n"
       ]
      },
      {
       "output_type": "stream",
       "stream": "stdout",
       "text": [
        "dw100g1c08u.cch0= 0\n"
       ]
      },
      {
       "output_type": "stream",
       "stream": "stderr",
       "text": [
        "WARNING:aphla.aptools:Timeout at dw100g1c08u.cch0= 1.0, i= 2, delta= 1.0\n"
       ]
      },
      {
       "output_type": "stream",
       "stream": "stdout",
       "text": [
        "dw100g1c08u.cch0= 0\n"
       ]
      },
      {
       "output_type": "stream",
       "stream": "stderr",
       "text": [
        "WARNING:aphla.aptools:Timeout at dw100g1c08u.cch0= 3.0, i= 3, delta= 3.0\n"
       ]
      },
      {
       "output_type": "stream",
       "stream": "stdout",
       "text": [
        "dw100g1c08u.cch0= 0\n"
       ]
      },
      {
       "output_type": "stream",
       "stream": "stderr",
       "text": [
        "WARNING:aphla.aptools:Timeout at restoring dw100g1c08u.cch0= 0\n"
       ]
      },
      {
       "output_type": "stream",
       "stream": "stdout",
       "text": [
        "Timeout at restoring dw100g1c08u.cch0= 0\n"
       ]
      },
      {
       "output_type": "stream",
       "stream": "stderr",
       "text": [
        "WARNING:aphla.aptools:Timeout at dw100g1c08u.cch1= -3.0, i= 0, delta= -3.0\n"
       ]
      },
      {
       "output_type": "stream",
       "stream": "stdout",
       "text": [
        "dw100g1c08u.cch1= 0\n"
       ]
      },
      {
       "output_type": "stream",
       "stream": "stderr",
       "text": [
        "WARNING:aphla.aptools:Timeout at dw100g1c08u.cch1= -1.0, i= 1, delta= -1.0\n"
       ]
      },
      {
       "output_type": "stream",
       "stream": "stdout",
       "text": [
        "dw100g1c08u.cch1= 0\n"
       ]
      },
      {
       "output_type": "stream",
       "stream": "stderr",
       "text": [
        "WARNING:aphla.aptools:Timeout at dw100g1c08u.cch1= 1.0, i= 2, delta= 1.0\n"
       ]
      },
      {
       "output_type": "stream",
       "stream": "stdout",
       "text": [
        "dw100g1c08u.cch1= 0\n"
       ]
      },
      {
       "output_type": "stream",
       "stream": "stderr",
       "text": [
        "WARNING:aphla.aptools:Timeout at dw100g1c08u.cch1= 3.0, i= 3, delta= 3.0\n"
       ]
      },
      {
       "output_type": "stream",
       "stream": "stdout",
       "text": [
        "dw100g1c08u.cch1= 0\n"
       ]
      },
      {
       "output_type": "stream",
       "stream": "stderr",
       "text": [
        "WARNING:aphla.aptools:Timeout at restoring dw100g1c08u.cch1= 0\n"
       ]
      },
      {
       "output_type": "stream",
       "stream": "stdout",
       "text": [
        "Timeout at restoring dw100g1c08u.cch1= 0\n"
       ]
      },
      {
       "output_type": "stream",
       "stream": "stderr",
       "text": [
        "WARNING:aphla.aptools:Timeout at dw100g1c08u.cch2= -3.0, i= 0, delta= -3.0\n"
       ]
      },
      {
       "output_type": "stream",
       "stream": "stdout",
       "text": [
        "dw100g1c08u.cch2= 0\n"
       ]
      },
      {
       "output_type": "stream",
       "stream": "stderr",
       "text": [
        "WARNING:aphla.aptools:Timeout at dw100g1c08u.cch2= -1.0, i= 1, delta= -1.0\n"
       ]
      },
      {
       "output_type": "stream",
       "stream": "stdout",
       "text": [
        "dw100g1c08u.cch2= 0\n"
       ]
      },
      {
       "output_type": "stream",
       "stream": "stderr",
       "text": [
        "WARNING:aphla.aptools:Timeout at dw100g1c08u.cch2= 1.0, i= 2, delta= 1.0\n"
       ]
      },
      {
       "output_type": "stream",
       "stream": "stdout",
       "text": [
        "dw100g1c08u.cch2= 0\n"
       ]
      },
      {
       "output_type": "stream",
       "stream": "stderr",
       "text": [
        "WARNING:aphla.aptools:Timeout at dw100g1c08u.cch2= 3.0, i= 3, delta= 3.0\n"
       ]
      },
      {
       "output_type": "stream",
       "stream": "stdout",
       "text": [
        "dw100g1c08u.cch2= 0\n"
       ]
      },
      {
       "output_type": "stream",
       "stream": "stderr",
       "text": [
        "WARNING:aphla.aptools:Timeout at restoring dw100g1c08u.cch2= 0\n"
       ]
      },
      {
       "output_type": "stream",
       "stream": "stdout",
       "text": [
        "Timeout at restoring dw100g1c08u.cch2= 0\n"
       ]
      },
      {
       "output_type": "stream",
       "stream": "stderr",
       "text": [
        "WARNING:aphla.aptools:Timeout at dw100g1c08u.cch3= -3.0, i= 0, delta= -3.0\n"
       ]
      },
      {
       "output_type": "stream",
       "stream": "stdout",
       "text": [
        "dw100g1c08u.cch3= 0\n"
       ]
      },
      {
       "output_type": "stream",
       "stream": "stderr",
       "text": [
        "WARNING:aphla.aptools:Timeout at dw100g1c08u.cch3= -1.0, i= 1, delta= -1.0\n"
       ]
      },
      {
       "output_type": "stream",
       "stream": "stdout",
       "text": [
        "dw100g1c08u.cch3= 0\n"
       ]
      },
      {
       "output_type": "stream",
       "stream": "stderr",
       "text": [
        "WARNING:aphla.aptools:Timeout at dw100g1c08u.cch3= 1.0, i= 2, delta= 1.0\n"
       ]
      },
      {
       "output_type": "stream",
       "stream": "stdout",
       "text": [
        "dw100g1c08u.cch3= 0\n"
       ]
      },
      {
       "output_type": "stream",
       "stream": "stderr",
       "text": [
        "WARNING:aphla.aptools:Timeout at dw100g1c08u.cch3= 3.0, i= 3, delta= 3.0\n"
       ]
      },
      {
       "output_type": "stream",
       "stream": "stdout",
       "text": [
        "dw100g1c08u.cch3= 0\n"
       ]
      },
      {
       "output_type": "stream",
       "stream": "stderr",
       "text": [
        "WARNING:aphla.aptools:Timeout at restoring dw100g1c08u.cch3= 0\n"
       ]
      },
      {
       "output_type": "stream",
       "stream": "stdout",
       "text": [
        "Timeout at restoring dw100g1c08u.cch3= 0\n"
       ]
      },
      {
       "output_type": "stream",
       "stream": "stderr",
       "text": [
        "WARNING:aphla.aptools:Timeout at dw100g1c08u.cch4= -3.0, i= 0, delta= -3.0\n"
       ]
      },
      {
       "output_type": "stream",
       "stream": "stdout",
       "text": [
        "dw100g1c08u.cch4= 0\n"
       ]
      },
      {
       "output_type": "stream",
       "stream": "stderr",
       "text": [
        "WARNING:aphla.aptools:Timeout at dw100g1c08u.cch4= -1.0, i= 1, delta= -1.0\n"
       ]
      },
      {
       "output_type": "stream",
       "stream": "stdout",
       "text": [
        "dw100g1c08u.cch4= 0\n"
       ]
      },
      {
       "output_type": "stream",
       "stream": "stderr",
       "text": [
        "WARNING:aphla.aptools:Timeout at dw100g1c08u.cch4= 1.0, i= 2, delta= 1.0\n"
       ]
      },
      {
       "output_type": "stream",
       "stream": "stdout",
       "text": [
        "dw100g1c08u.cch4= 0\n"
       ]
      },
      {
       "output_type": "stream",
       "stream": "stderr",
       "text": [
        "WARNING:aphla.aptools:Timeout at dw100g1c08u.cch4= 3.0, i= 3, delta= 3.0\n"
       ]
      },
      {
       "output_type": "stream",
       "stream": "stdout",
       "text": [
        "dw100g1c08u.cch4= 0\n"
       ]
      },
      {
       "output_type": "stream",
       "stream": "stderr",
       "text": [
        "WARNING:aphla.aptools:Timeout at restoring dw100g1c08u.cch4= 0\n"
       ]
      },
      {
       "output_type": "stream",
       "stream": "stdout",
       "text": [
        "Timeout at restoring dw100g1c08u.cch4= 0\n"
       ]
      },
      {
       "output_type": "stream",
       "stream": "stderr",
       "text": [
        "WARNING:aphla.aptools:Timeout at dw100g1c08u.cch5= -3.0, i= 0, delta= -3.0\n"
       ]
      },
      {
       "output_type": "stream",
       "stream": "stdout",
       "text": [
        "dw100g1c08u.cch5= 0\n"
       ]
      },
      {
       "output_type": "stream",
       "stream": "stderr",
       "text": [
        "WARNING:aphla.aptools:Timeout at dw100g1c08u.cch5= -1.0, i= 1, delta= -1.0\n"
       ]
      },
      {
       "output_type": "stream",
       "stream": "stdout",
       "text": [
        "dw100g1c08u.cch5= 0\n"
       ]
      },
      {
       "output_type": "stream",
       "stream": "stderr",
       "text": [
        "WARNING:aphla.aptools:Timeout at dw100g1c08u.cch5= 1.0, i= 2, delta= 1.0\n"
       ]
      },
      {
       "output_type": "stream",
       "stream": "stdout",
       "text": [
        "dw100g1c08u.cch5= 0\n"
       ]
      },
      {
       "output_type": "stream",
       "stream": "stderr",
       "text": [
        "WARNING:aphla.aptools:Timeout at dw100g1c08u.cch5= 3.0, i= 3, delta= 3.0\n"
       ]
      },
      {
       "output_type": "stream",
       "stream": "stdout",
       "text": [
        "dw100g1c08u.cch5= 0\n"
       ]
      },
      {
       "output_type": "stream",
       "stream": "stderr",
       "text": [
        "WARNING:aphla.aptools:Timeout at restoring dw100g1c08u.cch5= 0\n"
       ]
      },
      {
       "output_type": "stream",
       "stream": "stdout",
       "text": [
        "Timeout at restoring dw100g1c08u.cch5= 0\n"
       ]
      },
      {
       "output_type": "stream",
       "stream": "stderr",
       "text": [
        "WARNING:aphla.aptools:Timeout at dw100g1c08u.cch0= -3.0, i= 0, delta= -3.0\n"
       ]
      },
      {
       "output_type": "stream",
       "stream": "stdout",
       "text": [
        "001/003: [['gap', 145.99657530229945, 0.1]]\n",
        "dw100g1c08u.cch0= 0"
       ]
      },
      {
       "output_type": "stream",
       "stream": "stdout",
       "text": [
        "\n"
       ]
      },
      {
       "output_type": "stream",
       "stream": "stderr",
       "text": [
        "WARNING:aphla.aptools:Timeout at dw100g1c08u.cch0= -1.0, i= 1, delta= -1.0\n"
       ]
      },
      {
       "output_type": "stream",
       "stream": "stdout",
       "text": [
        "dw100g1c08u.cch0= 0\n"
       ]
      },
      {
       "output_type": "stream",
       "stream": "stderr",
       "text": [
        "WARNING:aphla.aptools:Timeout at dw100g1c08u.cch0= 1.0, i= 2, delta= 1.0\n"
       ]
      },
      {
       "output_type": "stream",
       "stream": "stdout",
       "text": [
        "dw100g1c08u.cch0= 0\n"
       ]
      },
      {
       "output_type": "stream",
       "stream": "stderr",
       "text": [
        "WARNING:aphla.aptools:Timeout at dw100g1c08u.cch0= 3.0, i= 3, delta= 3.0\n"
       ]
      },
      {
       "output_type": "stream",
       "stream": "stdout",
       "text": [
        "dw100g1c08u.cch0= 0\n"
       ]
      },
      {
       "output_type": "stream",
       "stream": "stderr",
       "text": [
        "WARNING:aphla.aptools:Timeout at restoring dw100g1c08u.cch0= 0\n"
       ]
      },
      {
       "output_type": "stream",
       "stream": "stdout",
       "text": [
        "Timeout at restoring dw100g1c08u.cch0= 0\n"
       ]
      },
      {
       "output_type": "stream",
       "stream": "stderr",
       "text": [
        "WARNING:aphla.aptools:Timeout at dw100g1c08u.cch1= -3.0, i= 0, delta= -3.0\n"
       ]
      },
      {
       "output_type": "stream",
       "stream": "stdout",
       "text": [
        "dw100g1c08u.cch1= 0\n"
       ]
      },
      {
       "output_type": "stream",
       "stream": "stderr",
       "text": [
        "WARNING:aphla.aptools:Timeout at dw100g1c08u.cch1= -1.0, i= 1, delta= -1.0\n"
       ]
      },
      {
       "output_type": "stream",
       "stream": "stdout",
       "text": [
        "dw100g1c08u.cch1= 0\n"
       ]
      },
      {
       "output_type": "stream",
       "stream": "stderr",
       "text": [
        "WARNING:aphla.aptools:Timeout at dw100g1c08u.cch1= 1.0, i= 2, delta= 1.0\n"
       ]
      },
      {
       "output_type": "stream",
       "stream": "stdout",
       "text": [
        "dw100g1c08u.cch1= 0\n"
       ]
      },
      {
       "output_type": "stream",
       "stream": "stderr",
       "text": [
        "WARNING:aphla.aptools:Timeout at dw100g1c08u.cch1= 3.0, i= 3, delta= 3.0\n"
       ]
      },
      {
       "output_type": "stream",
       "stream": "stdout",
       "text": [
        "dw100g1c08u.cch1= 0\n"
       ]
      },
      {
       "output_type": "stream",
       "stream": "stderr",
       "text": [
        "WARNING:aphla.aptools:Timeout at restoring dw100g1c08u.cch1= 0\n"
       ]
      },
      {
       "output_type": "stream",
       "stream": "stdout",
       "text": [
        "Timeout at restoring dw100g1c08u.cch1= 0\n"
       ]
      },
      {
       "output_type": "stream",
       "stream": "stderr",
       "text": [
        "WARNING:aphla.aptools:Timeout at dw100g1c08u.cch2= -3.0, i= 0, delta= -3.0\n"
       ]
      },
      {
       "output_type": "stream",
       "stream": "stdout",
       "text": [
        "dw100g1c08u.cch2= 0\n"
       ]
      },
      {
       "output_type": "stream",
       "stream": "stderr",
       "text": [
        "WARNING:aphla.aptools:Timeout at dw100g1c08u.cch2= -1.0, i= 1, delta= -1.0\n"
       ]
      },
      {
       "output_type": "stream",
       "stream": "stdout",
       "text": [
        "dw100g1c08u.cch2= 0\n"
       ]
      },
      {
       "output_type": "stream",
       "stream": "stderr",
       "text": [
        "WARNING:aphla.aptools:Timeout at dw100g1c08u.cch2= 1.0, i= 2, delta= 1.0\n"
       ]
      },
      {
       "output_type": "stream",
       "stream": "stdout",
       "text": [
        "dw100g1c08u.cch2= 0\n"
       ]
      },
      {
       "output_type": "stream",
       "stream": "stderr",
       "text": [
        "WARNING:aphla.aptools:Timeout at dw100g1c08u.cch2= 3.0, i= 3, delta= 3.0\n"
       ]
      },
      {
       "output_type": "stream",
       "stream": "stdout",
       "text": [
        "dw100g1c08u.cch2= 0\n"
       ]
      },
      {
       "output_type": "stream",
       "stream": "stderr",
       "text": [
        "WARNING:aphla.aptools:Timeout at restoring dw100g1c08u.cch2= 0\n"
       ]
      },
      {
       "output_type": "stream",
       "stream": "stdout",
       "text": [
        "Timeout at restoring dw100g1c08u.cch2= 0\n"
       ]
      },
      {
       "output_type": "stream",
       "stream": "stderr",
       "text": [
        "WARNING:aphla.aptools:Timeout at dw100g1c08u.cch3= -3.0, i= 0, delta= -3.0\n"
       ]
      },
      {
       "output_type": "stream",
       "stream": "stdout",
       "text": [
        "dw100g1c08u.cch3= 0\n"
       ]
      },
      {
       "output_type": "stream",
       "stream": "stderr",
       "text": [
        "WARNING:aphla.aptools:Timeout at dw100g1c08u.cch3= -1.0, i= 1, delta= -1.0\n"
       ]
      },
      {
       "output_type": "stream",
       "stream": "stdout",
       "text": [
        "dw100g1c08u.cch3= 0\n"
       ]
      },
      {
       "output_type": "stream",
       "stream": "stderr",
       "text": [
        "WARNING:aphla.aptools:Timeout at dw100g1c08u.cch3= 1.0, i= 2, delta= 1.0\n"
       ]
      },
      {
       "output_type": "stream",
       "stream": "stdout",
       "text": [
        "dw100g1c08u.cch3= 0\n"
       ]
      },
      {
       "output_type": "stream",
       "stream": "stderr",
       "text": [
        "WARNING:aphla.aptools:Timeout at dw100g1c08u.cch3= 3.0, i= 3, delta= 3.0\n"
       ]
      },
      {
       "output_type": "stream",
       "stream": "stdout",
       "text": [
        "dw100g1c08u.cch3= 0\n"
       ]
      },
      {
       "output_type": "stream",
       "stream": "stderr",
       "text": [
        "WARNING:aphla.aptools:Timeout at restoring dw100g1c08u.cch3= 0\n"
       ]
      },
      {
       "output_type": "stream",
       "stream": "stdout",
       "text": [
        "Timeout at restoring dw100g1c08u.cch3= 0\n"
       ]
      },
      {
       "output_type": "stream",
       "stream": "stderr",
       "text": [
        "WARNING:aphla.aptools:Timeout at dw100g1c08u.cch4= -3.0, i= 0, delta= -3.0\n"
       ]
      },
      {
       "output_type": "stream",
       "stream": "stdout",
       "text": [
        "dw100g1c08u.cch4= 0\n"
       ]
      },
      {
       "output_type": "stream",
       "stream": "stderr",
       "text": [
        "WARNING:aphla.aptools:Timeout at dw100g1c08u.cch4= -1.0, i= 1, delta= -1.0\n"
       ]
      },
      {
       "output_type": "stream",
       "stream": "stdout",
       "text": [
        "dw100g1c08u.cch4= 0\n"
       ]
      },
      {
       "output_type": "stream",
       "stream": "stderr",
       "text": [
        "WARNING:aphla.aptools:Timeout at dw100g1c08u.cch4= 1.0, i= 2, delta= 1.0\n"
       ]
      },
      {
       "output_type": "stream",
       "stream": "stdout",
       "text": [
        "dw100g1c08u.cch4= 0\n"
       ]
      },
      {
       "output_type": "stream",
       "stream": "stderr",
       "text": [
        "WARNING:aphla.aptools:Timeout at dw100g1c08u.cch4= 3.0, i= 3, delta= 3.0\n"
       ]
      },
      {
       "output_type": "stream",
       "stream": "stdout",
       "text": [
        "dw100g1c08u.cch4= 0\n"
       ]
      },
      {
       "output_type": "stream",
       "stream": "stderr",
       "text": [
        "WARNING:aphla.aptools:Timeout at restoring dw100g1c08u.cch4= 0\n"
       ]
      },
      {
       "output_type": "stream",
       "stream": "stdout",
       "text": [
        "Timeout at restoring dw100g1c08u.cch4= 0\n"
       ]
      },
      {
       "output_type": "stream",
       "stream": "stderr",
       "text": [
        "WARNING:aphla.aptools:Timeout at dw100g1c08u.cch5= -3.0, i= 0, delta= -3.0\n"
       ]
      },
      {
       "output_type": "stream",
       "stream": "stdout",
       "text": [
        "dw100g1c08u.cch5= 0\n"
       ]
      },
      {
       "output_type": "stream",
       "stream": "stderr",
       "text": [
        "WARNING:aphla.aptools:Timeout at dw100g1c08u.cch5= -1.0, i= 1, delta= -1.0\n"
       ]
      },
      {
       "output_type": "stream",
       "stream": "stdout",
       "text": [
        "dw100g1c08u.cch5= 0\n"
       ]
      },
      {
       "output_type": "stream",
       "stream": "stderr",
       "text": [
        "WARNING:aphla.aptools:Timeout at dw100g1c08u.cch5= 1.0, i= 2, delta= 1.0\n"
       ]
      },
      {
       "output_type": "stream",
       "stream": "stdout",
       "text": [
        "dw100g1c08u.cch5= 0\n"
       ]
      },
      {
       "output_type": "stream",
       "stream": "stderr",
       "text": [
        "WARNING:aphla.aptools:Timeout at dw100g1c08u.cch5= 3.0, i= 3, delta= 3.0\n"
       ]
      },
      {
       "output_type": "stream",
       "stream": "stdout",
       "text": [
        "dw100g1c08u.cch5= 0\n"
       ]
      },
      {
       "output_type": "stream",
       "stream": "stderr",
       "text": [
        "WARNING:aphla.aptools:Timeout at restoring dw100g1c08u.cch5= 0\n"
       ]
      },
      {
       "output_type": "stream",
       "stream": "stdout",
       "text": [
        "Timeout at restoring dw100g1c08u.cch5= 0\n"
       ]
      },
      {
       "output_type": "stream",
       "stream": "stderr",
       "text": [
        "WARNING:aphla.aptools:Timeout at dw100g1c08u.cch0= -3.0, i= 0, delta= -3.0\n"
       ]
      },
      {
       "output_type": "stream",
       "stream": "stdout",
       "text": [
        "002/003: [['gap', 146.99999999999997, 0.1]]\n",
        "dw100g1c08u.cch0= 0"
       ]
      },
      {
       "output_type": "stream",
       "stream": "stdout",
       "text": [
        "\n"
       ]
      },
      {
       "output_type": "stream",
       "stream": "stderr",
       "text": [
        "WARNING:aphla.aptools:Timeout at dw100g1c08u.cch0= -1.0, i= 1, delta= -1.0\n"
       ]
      },
      {
       "output_type": "stream",
       "stream": "stdout",
       "text": [
        "dw100g1c08u.cch0= 0\n"
       ]
      },
      {
       "output_type": "stream",
       "stream": "stderr",
       "text": [
        "WARNING:aphla.aptools:Timeout at dw100g1c08u.cch0= 1.0, i= 2, delta= 1.0\n"
       ]
      },
      {
       "output_type": "stream",
       "stream": "stdout",
       "text": [
        "dw100g1c08u.cch0= 0\n"
       ]
      },
      {
       "output_type": "stream",
       "stream": "stderr",
       "text": [
        "WARNING:aphla.aptools:Timeout at dw100g1c08u.cch0= 3.0, i= 3, delta= 3.0\n"
       ]
      },
      {
       "output_type": "stream",
       "stream": "stdout",
       "text": [
        "dw100g1c08u.cch0= 0\n"
       ]
      },
      {
       "output_type": "stream",
       "stream": "stderr",
       "text": [
        "WARNING:aphla.aptools:Timeout at restoring dw100g1c08u.cch0= 0\n"
       ]
      },
      {
       "output_type": "stream",
       "stream": "stdout",
       "text": [
        "Timeout at restoring dw100g1c08u.cch0= 0\n"
       ]
      },
      {
       "output_type": "stream",
       "stream": "stderr",
       "text": [
        "WARNING:aphla.aptools:Timeout at dw100g1c08u.cch1= -3.0, i= 0, delta= -3.0\n"
       ]
      },
      {
       "output_type": "stream",
       "stream": "stdout",
       "text": [
        "dw100g1c08u.cch1= 0\n"
       ]
      },
      {
       "output_type": "stream",
       "stream": "stderr",
       "text": [
        "WARNING:aphla.aptools:Timeout at dw100g1c08u.cch1= -1.0, i= 1, delta= -1.0\n"
       ]
      },
      {
       "output_type": "stream",
       "stream": "stdout",
       "text": [
        "dw100g1c08u.cch1= 0\n"
       ]
      },
      {
       "output_type": "stream",
       "stream": "stderr",
       "text": [
        "WARNING:aphla.aptools:Timeout at dw100g1c08u.cch1= 1.0, i= 2, delta= 1.0\n"
       ]
      },
      {
       "output_type": "stream",
       "stream": "stdout",
       "text": [
        "dw100g1c08u.cch1= 0\n"
       ]
      },
      {
       "output_type": "stream",
       "stream": "stderr",
       "text": [
        "WARNING:aphla.aptools:Timeout at dw100g1c08u.cch1= 3.0, i= 3, delta= 3.0\n"
       ]
      },
      {
       "output_type": "stream",
       "stream": "stdout",
       "text": [
        "dw100g1c08u.cch1= 0\n"
       ]
      },
      {
       "output_type": "stream",
       "stream": "stderr",
       "text": [
        "WARNING:aphla.aptools:Timeout at restoring dw100g1c08u.cch1= 0\n"
       ]
      },
      {
       "output_type": "stream",
       "stream": "stdout",
       "text": [
        "Timeout at restoring dw100g1c08u.cch1= 0\n"
       ]
      },
      {
       "output_type": "stream",
       "stream": "stderr",
       "text": [
        "WARNING:aphla.aptools:Timeout at dw100g1c08u.cch2= -3.0, i= 0, delta= -3.0\n"
       ]
      },
      {
       "output_type": "stream",
       "stream": "stdout",
       "text": [
        "dw100g1c08u.cch2= 0\n"
       ]
      },
      {
       "output_type": "stream",
       "stream": "stderr",
       "text": [
        "WARNING:aphla.aptools:Timeout at dw100g1c08u.cch2= -1.0, i= 1, delta= -1.0\n"
       ]
      },
      {
       "output_type": "stream",
       "stream": "stdout",
       "text": [
        "dw100g1c08u.cch2= 0\n"
       ]
      },
      {
       "output_type": "stream",
       "stream": "stderr",
       "text": [
        "WARNING:aphla.aptools:Timeout at dw100g1c08u.cch2= 1.0, i= 2, delta= 1.0\n"
       ]
      },
      {
       "output_type": "stream",
       "stream": "stdout",
       "text": [
        "dw100g1c08u.cch2= 0\n"
       ]
      },
      {
       "output_type": "stream",
       "stream": "stderr",
       "text": [
        "WARNING:aphla.aptools:Timeout at dw100g1c08u.cch2= 3.0, i= 3, delta= 3.0\n"
       ]
      },
      {
       "output_type": "stream",
       "stream": "stdout",
       "text": [
        "dw100g1c08u.cch2= 0\n"
       ]
      },
      {
       "output_type": "stream",
       "stream": "stderr",
       "text": [
        "WARNING:aphla.aptools:Timeout at restoring dw100g1c08u.cch2= 0\n"
       ]
      },
      {
       "output_type": "stream",
       "stream": "stdout",
       "text": [
        "Timeout at restoring dw100g1c08u.cch2= 0\n"
       ]
      },
      {
       "output_type": "stream",
       "stream": "stderr",
       "text": [
        "WARNING:aphla.aptools:Timeout at dw100g1c08u.cch3= -3.0, i= 0, delta= -3.0\n"
       ]
      },
      {
       "output_type": "stream",
       "stream": "stdout",
       "text": [
        "dw100g1c08u.cch3= 0\n"
       ]
      },
      {
       "output_type": "stream",
       "stream": "stderr",
       "text": [
        "WARNING:aphla.aptools:Timeout at dw100g1c08u.cch3= -1.0, i= 1, delta= -1.0\n"
       ]
      },
      {
       "output_type": "stream",
       "stream": "stdout",
       "text": [
        "dw100g1c08u.cch3= 0\n"
       ]
      },
      {
       "output_type": "stream",
       "stream": "stderr",
       "text": [
        "WARNING:aphla.aptools:Timeout at dw100g1c08u.cch3= 1.0, i= 2, delta= 1.0\n"
       ]
      },
      {
       "output_type": "stream",
       "stream": "stdout",
       "text": [
        "dw100g1c08u.cch3= 0\n"
       ]
      },
      {
       "output_type": "stream",
       "stream": "stderr",
       "text": [
        "WARNING:aphla.aptools:Timeout at dw100g1c08u.cch3= 3.0, i= 3, delta= 3.0\n"
       ]
      },
      {
       "output_type": "stream",
       "stream": "stdout",
       "text": [
        "dw100g1c08u.cch3= 0\n"
       ]
      },
      {
       "output_type": "stream",
       "stream": "stderr",
       "text": [
        "WARNING:aphla.aptools:Timeout at restoring dw100g1c08u.cch3= 0\n"
       ]
      },
      {
       "output_type": "stream",
       "stream": "stdout",
       "text": [
        "Timeout at restoring dw100g1c08u.cch3= 0\n"
       ]
      },
      {
       "output_type": "stream",
       "stream": "stderr",
       "text": [
        "WARNING:aphla.aptools:Timeout at dw100g1c08u.cch4= -3.0, i= 0, delta= -3.0\n"
       ]
      },
      {
       "output_type": "stream",
       "stream": "stdout",
       "text": [
        "dw100g1c08u.cch4= 0\n"
       ]
      },
      {
       "output_type": "stream",
       "stream": "stderr",
       "text": [
        "WARNING:aphla.aptools:Timeout at dw100g1c08u.cch4= -1.0, i= 1, delta= -1.0\n"
       ]
      },
      {
       "output_type": "stream",
       "stream": "stdout",
       "text": [
        "dw100g1c08u.cch4= 0\n"
       ]
      },
      {
       "output_type": "stream",
       "stream": "stderr",
       "text": [
        "WARNING:aphla.aptools:Timeout at dw100g1c08u.cch4= 1.0, i= 2, delta= 1.0\n"
       ]
      },
      {
       "output_type": "stream",
       "stream": "stdout",
       "text": [
        "dw100g1c08u.cch4= 0\n"
       ]
      },
      {
       "output_type": "stream",
       "stream": "stderr",
       "text": [
        "WARNING:aphla.aptools:Timeout at dw100g1c08u.cch4= 3.0, i= 3, delta= 3.0\n"
       ]
      },
      {
       "output_type": "stream",
       "stream": "stdout",
       "text": [
        "dw100g1c08u.cch4= 0\n"
       ]
      },
      {
       "output_type": "stream",
       "stream": "stderr",
       "text": [
        "WARNING:aphla.aptools:Timeout at restoring dw100g1c08u.cch4= 0\n"
       ]
      },
      {
       "output_type": "stream",
       "stream": "stdout",
       "text": [
        "Timeout at restoring dw100g1c08u.cch4= 0\n"
       ]
      },
      {
       "output_type": "stream",
       "stream": "stderr",
       "text": [
        "WARNING:aphla.aptools:Timeout at dw100g1c08u.cch5= -3.0, i= 0, delta= -3.0\n"
       ]
      },
      {
       "output_type": "stream",
       "stream": "stdout",
       "text": [
        "dw100g1c08u.cch5= 0\n"
       ]
      },
      {
       "output_type": "stream",
       "stream": "stderr",
       "text": [
        "WARNING:aphla.aptools:Timeout at dw100g1c08u.cch5= -1.0, i= 1, delta= -1.0\n"
       ]
      },
      {
       "output_type": "stream",
       "stream": "stdout",
       "text": [
        "dw100g1c08u.cch5= 0\n"
       ]
      },
      {
       "output_type": "stream",
       "stream": "stderr",
       "text": [
        "WARNING:aphla.aptools:Timeout at dw100g1c08u.cch5= 1.0, i= 2, delta= 1.0\n"
       ]
      },
      {
       "output_type": "stream",
       "stream": "stdout",
       "text": [
        "dw100g1c08u.cch5= 0\n"
       ]
      },
      {
       "output_type": "stream",
       "stream": "stderr",
       "text": [
        "WARNING:aphla.aptools:Timeout at dw100g1c08u.cch5= 3.0, i= 3, delta= 3.0\n"
       ]
      },
      {
       "output_type": "stream",
       "stream": "stdout",
       "text": [
        "dw100g1c08u.cch5= 0\n"
       ]
      },
      {
       "output_type": "stream",
       "stream": "stderr",
       "text": [
        "WARNING:aphla.aptools:Timeout at restoring dw100g1c08u.cch5= 0\n"
       ]
      },
      {
       "output_type": "stream",
       "stream": "stdout",
       "text": [
        "Timeout at restoring dw100g1c08u.cch5= 0\n"
       ]
      }
     ],
     "prompt_number": 13
    },
    {
     "cell_type": "code",
     "collapsed": false,
     "input": [
      "dw = ap.getElements('dw100g1c08u')[0]\n",
      "dw.cch0 = 3"
     ],
     "language": "python",
     "metadata": {},
     "outputs": [],
     "prompt_number": 53
    },
    {
     "cell_type": "code",
     "collapsed": false,
     "input": [
      "'''\n",
      ". switch off all running feed-back/forward system, \n",
      "  which can interface the ID commissioning, and record\n",
      "  their status. Re-start them after commissioning is done\n",
      "\n",
      ". check if beam has decent current, lifetime, if vacuum\n",
      "  temperture monitor readings are within the ranges (Yongjun: done, chkBeam)\n",
      "  \n",
      ". choose which ID needs to be commissioned, then\n",
      "  move its gap and phase from min to max to check if motors\n",
      "  can work properly; (Yongjun: done, chkID)\n",
      "  change correction coil current within its allowed ranges, and \n",
      "  compare the setpoint with readback (unit test)\n",
      "\n",
      ". define file name for archive data, file name should be self-explanatory including\n",
      "  ID name, date, and so on (Yongjun: done, genFileNamem genGroupName)\n",
      "\n",
      ". open the gap to max, and phase to zero, swith off on-board \n",
      "  correctors, then after correcting orbit using the ring correctors, \n",
      "  record it as the golden orbit for the reference\n",
      "\n",
      ". if it is a DW, pair it with its adjacent one to commission them together.\n",
      "  all six neighboring quadrupoles need to be added some extra \n",
      "  dI and cycle magnet for linear optics compensation\n",
      "  \n",
      ". based on gap/phase ranges to create a iterative list for loop (Yongjun-done, createParList)\n",
      "  \n",
      ". start main loop to change gap/phase with given stepsize, decide \n",
      "  how frequently we need to re-calibrate the golden orbit (using aphla)\n",
      "\n",
      "    * set gap/phase, wait motors to move, verify gap/phase status\n",
      "      if fails, re-try several times, if fails again, raise error (Yongjun-done)\n",
      "      \n",
      "    * check beam current and lifetime, continue if it is OK, otherwise\n",
      "      re-inject some decent current (Yongjun)\n",
      "    \n",
      "    * change on-board corrector current to measure their ORM (using aphla)\n",
      "    \n",
      "    * apply measured ORM to eliminate orbit distortion (relative to the golden)\n",
      "      iteration might be needed to achieve the best performance (using aphla)\n",
      "\n",
      "    * excite beam to get tbt data to extract linear optics offline, change RF to measure\n",
      "      dispersion (using exsiting code)\n",
      "\n",
      "    * measure beam lifetime \n",
      "    \n",
      "    * archive data to hdf5 file's subgroup with gap/phase info\n",
      "    \n",
      "    * if needed, re-calibrate the golden orbit to refresh, then continue the loop\n",
      "    \n",
      "    * if fail, raise error to indicate loop index, so we can continue rather than\n",
      "      restart after machine is restored\n",
      "\n",
      ". ananlyze data, collect on-board correction current at different gap/phase to create\n",
      "  feed-forward table\n",
      "  \n",
      ". restore machine to the status before commissioning, restart orbit feed-back system\n",
      "\n",
      ". archive hdf5 path/name to IDDB\n",
      "'''"
     ],
     "language": "python",
     "metadata": {},
     "outputs": []
    }
   ],
   "metadata": {}
  }
 ]
}