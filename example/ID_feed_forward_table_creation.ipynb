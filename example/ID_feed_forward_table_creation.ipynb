{
 "metadata": {
  "name": "",
  "signature": "sha256:767b8cb6271a68dfe411d905915c1be8ddb476189b9624f9e2451d96ebf6469b"
 },
 "nbformat": 3,
 "nbformat_minor": 0,
 "worksheets": [
  {
   "cells": [
    {
     "cell_type": "heading",
     "level": 1,
     "metadata": {},
     "source": [
      "ID feed forward table creation"
     ]
    },
    {
     "cell_type": "heading",
     "level": 2,
     "metadata": {},
     "source": [
      "Date: 9/24/2014\n",
      "Author: Yongjun Li, Yoshi Hidaka, Lingyun Yang"
     ]
    },
    {
     "cell_type": "code",
     "collapsed": false,
     "input": [
      "import time\n",
      "import matplotlib.pylab as plt\n",
      "import numpy as np\n",
      "import scipy as sp\n",
      "import copy\n",
      "import h5py\n",
      "\n",
      "# --- Lingyun's aphla\n",
      "import aphla as ap\n",
      "ap.machines.load('nsls2', 'SR')"
     ],
     "language": "python",
     "metadata": {},
     "outputs": [
      {
       "output_type": "stream",
       "stream": "stderr",
       "text": [
        "WARNING:aphla.unitconv:'dw100g1c18u' has no field 'gap' for unit conversion\n"
       ]
      },
      {
       "output_type": "stream",
       "stream": "stderr",
       "text": [
        "WARNING:aphla.unitconv:'dw100g1c18d' has no field 'gap' for unit conversion\n"
       ]
      },
      {
       "output_type": "stream",
       "stream": "stderr",
       "text": [
        "WARNING:aphla.unitconv:'dw100g1c18u' has no field 'gapd' for unit conversion\n"
       ]
      },
      {
       "output_type": "stream",
       "stream": "stderr",
       "text": [
        "WARNING:aphla.unitconv:'dw100g1c18d' has no field 'gapd' for unit conversion\n"
       ]
      },
      {
       "output_type": "stream",
       "stream": "stderr",
       "text": [
        "WARNING:aphla.unitconv:'dw100g1c18u' has no field 'gapu' for unit conversion\n"
       ]
      },
      {
       "output_type": "stream",
       "stream": "stderr",
       "text": [
        "WARNING:aphla.unitconv:'dw100g1c18d' has no field 'gapu' for unit conversion\n"
       ]
      }
     ],
     "prompt_number": 1
    },
    {
     "cell_type": "code",
     "collapsed": false,
     "input": [
      "from datetime import datetime"
     ],
     "language": "python",
     "metadata": {},
     "outputs": [],
     "prompt_number": 2
    },
    {
     "cell_type": "code",
     "collapsed": false,
     "input": [
      "dws = ap.getElements('DW')\n",
      "dw28u = dws[4]\n",
      "dw28d = dws[5]"
     ],
     "language": "python",
     "metadata": {},
     "outputs": [],
     "prompt_number": 3
    },
    {
     "cell_type": "code",
     "collapsed": false,
     "input": [
      "print dw28d.name, dw28d.get(\"gap\")"
     ],
     "language": "python",
     "metadata": {},
     "outputs": [
      {
       "output_type": "stream",
       "stream": "stdout",
       "text": [
        "dw100g1c28d 150.0013\n"
       ]
      }
     ],
     "prompt_number": 4
    },
    {
     "cell_type": "code",
     "collapsed": false,
     "input": [
      "import nsls2id"
     ],
     "language": "python",
     "metadata": {},
     "outputs": [],
     "prompt_number": 8
    },
    {
     "cell_type": "code",
     "collapsed": false,
     "input": [
      "reload(nsls2id)"
     ],
     "language": "python",
     "metadata": {},
     "outputs": [
      {
       "metadata": {},
       "output_type": "pyout",
       "prompt_number": 19,
       "text": [
        "<module 'nsls2id' from 'nsls2id.py'>"
       ]
      }
     ],
     "prompt_number": 19
    },
    {
     "cell_type": "code",
     "collapsed": false,
     "input": [
      "# Body of commissioning\n",
      "\n",
      "import sys\n",
      "\n",
      "# parameter List, will read from DB or specified by user\n",
      "IDName = 'dw100g1c08u'\n",
      "#--- get ID instance\n",
      "ID = ap.getElements(IDName)[0]\n",
      "\n",
      "nsls2id._params[IDName][\"gap\"] = (145, 150, 5, 0.01)\n",
      "motorRate = 1000.0\n",
      "#parRange =[['gap','log',gapMax,gapMin,gapStep,gapTol],\n",
      "#           ['phase','linear',phaseMax,phaseMin,phaseStep,phaseTol]]\n",
      "#nbkgrd = 10  # redo background check after nbkgrd iterative status\n",
      "userBPM = False # if user BPM included\n",
      "\n",
      "#--- create parameter list for loop, name and table for hdf5 \n",
      "parList,parName,parTable = nsls2id.createParList(ID, [('gap', 'log'), ('phase', 'linear')])\n",
      "for pl in parList:\n",
      "    print pl\n",
      "print parName\n",
      "print parTable\n",
      "outputFile = nsls2id.initFile(ID, parName, parTable)"
     ],
     "language": "python",
     "metadata": {},
     "outputs": [
      {
       "output_type": "stream",
       "stream": "stdout",
       "text": [
        "[['gap', 144.99999999999997, 0.01]]\n",
        "[['gap', 146.23415382680381, 0.01]]\n",
        "[['gap', 147.47881203752618, 0.01]]\n",
        "[['gap', 148.73406403924062, 0.01]]\n",
        "[['gap', 150.00000000000003, 0.01]]\n",
        "['gap']\n",
        "[[ 145.        ]\n",
        " [ 146.23415383]\n",
        " [ 147.47881204]\n",
        " [ 148.73406404]\n",
        " [ 150.        ]]\n"
       ]
      }
     ],
     "prompt_number": 20
    },
    {
     "cell_type": "code",
     "collapsed": false,
     "input": [
      "### pre-check ###\n",
      "\n",
      "#--- switch off other orbit feedback\n",
      "#nsls2id.switchFeedback(fftable=\"off\")\n",
      "nsls2id.switchFeedback(fftable=\"on\")\n",
      "# fast/slow co\n",
      "# all ID feed forward\n"
     ],
     "language": "python",
     "metadata": {},
     "outputs": [
      {
       "output_type": "stream",
       "stream": "stdout",
       "text": [
        "set SR:C08-ID:G1{DW100:1}MPS:Lookup_.INPA='SR:C08-ID:G1{DW100:1-Mtr:Gap}.RBV CP NM'\n",
        "set SR:C08-ID:G1{DW100:2}MPS:Lookup_.INPA='SR:C08-ID:G1{DW100:2-Mtr:Gap}.RBV CP NM'\n",
        "WARNING: no 'gap' field in dw100g1c18u\n",
        "WARNING: no 'gap' field in dw100g1c18d\n",
        "set SR:C28-ID:G1{DW100:1}MPS:Lookup_.INPA='SR:C28-ID:G1{DW100:1-Mtr:Gap}.RBV CP NM'\n",
        "set SR:C28-ID:G1{DW100:2}MPS:Lookup_.INPA='SR:C28-ID:G1{DW100:2-Mtr:Gap}.RBV CP NM'\n"
       ]
      }
     ],
     "prompt_number": 12
    },
    {
     "cell_type": "code",
     "collapsed": false,
     "input": [
      "# weixing Bunch by Bunch\n",
      "\n",
      "#--- check beam conditions\n",
      "if not nsls2id.checkBeam():\n",
      "    raise RuntimeError(\"Beam has low current or lifetime.\")"
     ],
     "language": "python",
     "metadata": {},
     "outputs": [
      {
       "output_type": "stream",
       "stream": "stdout",
       "text": [
        "Beam current too low (0.0156199922785 < 2)\n"
       ]
      },
      {
       "ename": "RuntimeError",
       "evalue": "Beam has low current or lifetime.",
       "output_type": "pyerr",
       "traceback": [
        "\u001b[1;31m---------------------------------------------------------------------------\u001b[0m\n\u001b[1;31mRuntimeError\u001b[0m                              Traceback (most recent call last)",
        "\u001b[1;32m<ipython-input-15-161624f07948>\u001b[0m in \u001b[0;36m<module>\u001b[1;34m()\u001b[0m\n\u001b[0;32m      3\u001b[0m \u001b[1;31m#--- check beam conditions\u001b[0m\u001b[1;33m\u001b[0m\u001b[1;33m\u001b[0m\u001b[0m\n\u001b[0;32m      4\u001b[0m \u001b[1;32mif\u001b[0m \u001b[1;32mnot\u001b[0m \u001b[0mnsls2id\u001b[0m\u001b[1;33m.\u001b[0m\u001b[0mcheckBeam\u001b[0m\u001b[1;33m(\u001b[0m\u001b[1;33m)\u001b[0m\u001b[1;33m:\u001b[0m\u001b[1;33m\u001b[0m\u001b[0m\n\u001b[1;32m----> 5\u001b[1;33m     \u001b[1;32mraise\u001b[0m \u001b[0mRuntimeError\u001b[0m\u001b[1;33m(\u001b[0m\u001b[1;34m\"Beam has low current or lifetime.\"\u001b[0m\u001b[1;33m)\u001b[0m\u001b[1;33m\u001b[0m\u001b[0m\n\u001b[0m",
        "\u001b[1;31mRuntimeError\u001b[0m: Beam has low current or lifetime."
       ]
      }
     ],
     "prompt_number": 15
    },
    {
     "cell_type": "code",
     "collapsed": false,
     "input": [
      "#--- check ID gap and phase control\n",
      "if not nsls2id.checkGapPhase(ID):\n",
      "    raise RuntimeError(\"failed at checking ID '{0}' status\".format(ID.name))"
     ],
     "language": "python",
     "metadata": {},
     "outputs": [
      {
       "ename": "TypeError",
       "evalue": "put() got an unexpected keyword argument 'timeout'",
       "output_type": "pyerr",
       "traceback": [
        "\u001b[1;31m---------------------------------------------------------------------------\u001b[0m\n\u001b[1;31mTypeError\u001b[0m                                 Traceback (most recent call last)",
        "\u001b[1;32m<ipython-input-21-584cef901d6d>\u001b[0m in \u001b[0;36m<module>\u001b[1;34m()\u001b[0m\n\u001b[0;32m      1\u001b[0m \u001b[1;31m#--- check ID gap and phase control\u001b[0m\u001b[1;33m\u001b[0m\u001b[1;33m\u001b[0m\u001b[0m\n\u001b[1;32m----> 2\u001b[1;33m \u001b[1;32mif\u001b[0m \u001b[1;32mnot\u001b[0m \u001b[0mnsls2id\u001b[0m\u001b[1;33m.\u001b[0m\u001b[0mcheckGapPhase\u001b[0m\u001b[1;33m(\u001b[0m\u001b[0mID\u001b[0m\u001b[1;33m)\u001b[0m\u001b[1;33m:\u001b[0m\u001b[1;33m\u001b[0m\u001b[0m\n\u001b[0m\u001b[0;32m      3\u001b[0m     \u001b[1;32mraise\u001b[0m \u001b[0mRuntimeError\u001b[0m\u001b[1;33m(\u001b[0m\u001b[1;34m\"failed at checking ID '{0}' status\"\u001b[0m\u001b[1;33m.\u001b[0m\u001b[0mformat\u001b[0m\u001b[1;33m(\u001b[0m\u001b[0mID\u001b[0m\u001b[1;33m.\u001b[0m\u001b[0mname\u001b[0m\u001b[1;33m)\u001b[0m\u001b[1;33m)\u001b[0m\u001b[1;33m\u001b[0m\u001b[0m\n",
        "\u001b[1;32m/home/lyyang/devel/nsls2aphla/example/nsls2id.py\u001b[0m in \u001b[0;36mcheckGapPhase\u001b[1;34m(ID, **kwargs)\u001b[0m\n\u001b[0;32m    200\u001b[0m             \u001b[0mgapList\u001b[0m \u001b[1;33m=\u001b[0m \u001b[1;33m[\u001b[0m\u001b[1;33m[\u001b[0m\u001b[1;34m'gap'\u001b[0m\u001b[1;33m,\u001b[0m\u001b[0mgap\u001b[0m\u001b[1;33m,\u001b[0m\u001b[0mgapTol\u001b[0m\u001b[1;33m]\u001b[0m\u001b[1;33m]\u001b[0m\u001b[1;33m\u001b[0m\u001b[0m\n\u001b[0;32m    201\u001b[0m             gapStatus = putPar(ID,gapList,timeout=timeout,\n\u001b[1;32m--> 202\u001b[1;33m                                throw=throw,unitsys=unitsys,verbose=verbose)\n\u001b[0m\u001b[0;32m    203\u001b[0m             \u001b[1;32mif\u001b[0m \u001b[1;32mnot\u001b[0m \u001b[0mgapStatus\u001b[0m\u001b[1;33m:\u001b[0m\u001b[1;33m\u001b[0m\u001b[0m\n\u001b[0;32m    204\u001b[0m                 \u001b[1;32mreturn\u001b[0m \u001b[0mFalse\u001b[0m\u001b[1;33m\u001b[0m\u001b[0m\n",
        "\u001b[1;32m/home/lyyang/devel/nsls2aphla/example/nsls2id.py\u001b[0m in \u001b[0;36mputPar\u001b[1;34m(ID, parList, timeout, throw, unitsys, verbose)\u001b[0m\n\u001b[0;32m     77\u001b[0m     \u001b[0magree\u001b[0m \u001b[1;33m=\u001b[0m \u001b[0mTrue\u001b[0m\u001b[1;33m\u001b[0m\u001b[0m\n\u001b[0;32m     78\u001b[0m     \u001b[1;32mfor\u001b[0m \u001b[0mpar\u001b[0m \u001b[1;32min\u001b[0m \u001b[0mparList\u001b[0m\u001b[1;33m:\u001b[0m\u001b[1;33m\u001b[0m\u001b[0m\n\u001b[1;32m---> 79\u001b[1;33m         \u001b[0mID\u001b[0m\u001b[1;33m.\u001b[0m\u001b[0mput\u001b[0m\u001b[1;33m(\u001b[0m\u001b[0mpar\u001b[0m\u001b[1;33m[\u001b[0m\u001b[1;36m0\u001b[0m\u001b[1;33m]\u001b[0m\u001b[1;33m,\u001b[0m \u001b[0mpar\u001b[0m\u001b[1;33m[\u001b[0m\u001b[1;36m1\u001b[0m\u001b[1;33m]\u001b[0m\u001b[1;33m,\u001b[0m \u001b[0mtimeout\u001b[0m\u001b[1;33m=\u001b[0m\u001b[0mtimeout\u001b[0m\u001b[1;33m,\u001b[0m \u001b[0munitsys\u001b[0m\u001b[1;33m=\u001b[0m\u001b[0munitsys\u001b[0m\u001b[1;33m,\u001b[0m \u001b[0mtrig\u001b[0m\u001b[1;33m=\u001b[0m\u001b[1;36m1\u001b[0m\u001b[1;33m)\u001b[0m\u001b[1;33m\u001b[0m\u001b[0m\n\u001b[0m\u001b[0;32m     80\u001b[0m         \u001b[0mp0\u001b[0m \u001b[1;33m=\u001b[0m \u001b[0mID\u001b[0m\u001b[1;33m.\u001b[0m\u001b[0mget\u001b[0m\u001b[1;33m(\u001b[0m\u001b[0mpar\u001b[0m\u001b[1;33m[\u001b[0m\u001b[1;36m0\u001b[0m\u001b[1;33m]\u001b[0m\u001b[1;33m,\u001b[0m \u001b[0munitsys\u001b[0m\u001b[1;33m=\u001b[0m\u001b[0munitsys\u001b[0m\u001b[1;33m)\u001b[0m\u001b[1;33m\u001b[0m\u001b[0m\n\u001b[0;32m     81\u001b[0m         \u001b[1;32mif\u001b[0m \u001b[0mabs\u001b[0m\u001b[1;33m(\u001b[0m\u001b[0mp0\u001b[0m\u001b[1;33m-\u001b[0m\u001b[0mpar\u001b[0m\u001b[1;33m[\u001b[0m\u001b[1;36m1\u001b[0m\u001b[1;33m]\u001b[0m\u001b[1;33m)\u001b[0m \u001b[1;33m<=\u001b[0m \u001b[0mpar\u001b[0m\u001b[1;33m[\u001b[0m\u001b[1;36m2\u001b[0m\u001b[1;33m]\u001b[0m\u001b[1;33m:\u001b[0m\u001b[1;33m\u001b[0m\u001b[0m\n",
        "\u001b[1;31mTypeError\u001b[0m: put() got an unexpected keyword argument 'timeout'"
       ]
      }
     ],
     "prompt_number": 21
    },
    {
     "cell_type": "code",
     "collapsed": false,
     "input": [
      "#--- BPM and on-board corrector list for orbit ORM measurement\n",
      "bpms = ap.getElements('BPM')\n",
      "if userBPM: bpms += ap.getElements('UBPM')\n",
      "bpmflds = []\n",
      "for bpm in bpms:\n",
      "    bpmflds.append([bpm,'x'])\n",
      "    bpmflds.append([bpm,'y'])\n",
      "\n",
      "corflds = nsls2id.createCorrectorField(ID)\n",
      "print corflds"
     ],
     "language": "python",
     "metadata": {},
     "outputs": [
      {
       "output_type": "stream",
       "stream": "stdout",
       "text": [
        "[(dw100g1c28d:DW @ sb=739.351000, 'cch0'), (dw100g1c28d:DW @ sb=739.351000, 'cch1'), (dw100g1c28d:DW @ sb=739.351000, 'cch2'), (dw100g1c28d:DW @ sb=739.351000, 'cch3'), (dw100g1c28d:DW @ sb=739.351000, 'cch4'), (dw100g1c28d:DW @ sb=739.351000, 'cch5')]\n"
       ]
      }
     ],
     "prompt_number": 40
    },
    {
     "cell_type": "code",
     "collapsed": false,
     "input": [
      "# --- begin main loop\n",
      "bkgIndex, bkgGroup = 0, None\n",
      "igroup = 0\n",
      "dispersion = False\n",
      "Tbt = False\n",
      "for niter,par in enumerate(parList):\n",
      "    #--- print progress\n",
      "    print '%03i/%03i: '%niter,len(parList), par\n",
      "    #--- check beam for condition every status\n",
      "    if not nsls2id.checkBeam(Imin=Imin,Tmin=Tmin):\n",
      "        break\n",
      "    #--- check if re-calibration of golden orbit\n",
      "    if np.mod(niter,nbkgrd) == 0:\n",
      "        if not nsls2id.putBackground(ID,gapMax,gapTol,gapTol,timeout=timeout,throw=throw,unitsys=unitsys,verbose=verbose):\n",
      "            break\n",
      "        \n",
      "        # create background subgroup with index\n",
      "        fid = h5py.File(fname)\n",
      "        bkgGroup = \"background_%04d\" % bkgIndex\n",
      "        while bkGroup in fid[ID.name]:\n",
      "            bkgIndex += 1\n",
      "            bkgGroup = \"background_%04d\" % bkgIndex\n",
      "        grp = fid[ID.name].create_group(bkgGroup)\n",
      "        orb0 = ap.getOrbit(spos=True)\n",
      "        grp[\"orbit\"] = orb0\n",
      "        tau, I = ap.getLifetimeCurrent()\n",
      "        grp[\"lifetime\"] = tau\n",
      "        grp[\"current\"] = I\n",
      "        grp.attrs[\"iter\"] = niter\n",
      "        fid.close()\n",
      "        \n",
      "    #--- put parameters, then measure ORM of on-board corrector, implement correction\n",
      "    #--- measure TbT data, save data\n",
      "    if not putID(ID,par,timeout=timeout,throw=throw,unitsys=unitsys,verbose=verbose):\n",
      "        print \"Failed at setting {0}\".format(par)\n",
      "        break\n",
      "\n",
      "    fid = h5py.File(fname)\n",
      "    grpname = \"iter_%04d\" % igroup\n",
      "    while grpname in fid[ID.name]:\n",
      "        igroup += 1\n",
      "        grpname = \"iter_%04d\" % igroup\n",
      "    grp = fid[ID.name].create_group(grpname)\n",
      "    fid.close()\n",
      "        \n",
      "    # --- Lingyun's contribution later\n",
      "    rm = ap.measOrbitRm(bpmflds, corflds, output=fname, h5group=\"%s/orm\" % grpname)\n",
      "    orb1 = ap.getOrbit(spos=False)\n",
      "    ap.corrOrbit(orb1-orb0,rm)\n",
      "    \n",
      "    if Tbt:\n",
      "        #trig pinger\n",
      "        name, x, y, Isum, ts, offset = ap.nsls2.getSrBpmData(output=fname, h5group = \"%s/bpm_tbt\" % grpname,\n",
      "            trig=1,count=2000,output=False)\n",
      "    if dispersion:\n",
      "        ap.measDispersion(output=fileName, h5group=\"%s/dispersion\" % grpname\n",
      "        \n",
      "    fid = h5py.File(fname)\n",
      "    grp = fid[ID.name][grpname]\n",
      "    grp.attrs[\"iteration\"] = niter\n",
      "    grp[\"tune\"] = ap.getTunes()\n",
      "    grp[\"orbit\"] = orb1\n",
      "    kxy = [k for k in cors]\n",
      "    grp['controlCurrent'] = kxy\n",
      "    fid.close()\n"
     ],
     "language": "python",
     "metadata": {},
     "outputs": []
    },
    {
     "cell_type": "code",
     "collapsed": false,
     "input": [
      "'''\n",
      ". switch off all running feed-back/forward system, \n",
      "  which can interface the ID commissioning, and record\n",
      "  their status. Re-start them after commissioning is done\n",
      "\n",
      ". check if beam has decent current, lifetime, if vacuum\n",
      "  temperture monitor readings are within the ranges (Yongjun: done, chkBeam)\n",
      "  \n",
      ". choose which ID needs to be commissioned, then\n",
      "  move its gap and phase from min to max to check if motors\n",
      "  can work properly; (Yongjun: done, chkID)\n",
      "  change correction coil current within its allowed ranges, and \n",
      "  compare the setpoint with readback (unit test)\n",
      "\n",
      ". define file name for archive data, file name should be self-explanatory including\n",
      "  ID name, date, and so on (Yongjun: done, genFileNamem genGroupName)\n",
      "\n",
      ". open the gap to max, and phase to zero, swith off on-board \n",
      "  correctors, then after correcting orbit using the ring correctors, \n",
      "  record it as the golden orbit for the reference\n",
      "\n",
      ". if it is a DW, pair it with its adjacent one to commission them together.\n",
      "  all six neighboring quadrupoles need to be added some extra \n",
      "  dI and cycle magnet for linear optics compensation\n",
      "  \n",
      ". based on gap/phase ranges to create a iterative list for loop (Yongjun-done, createParList)\n",
      "  \n",
      ". start main loop to change gap/phase with given stepsize, decide \n",
      "  how frequently we need to re-calibrate the golden orbit (using aphla)\n",
      "\n",
      "    * set gap/phase, wait motors to move, verify gap/phase status\n",
      "      if fails, re-try several times, if fails again, raise error (Yongjun-done)\n",
      "      \n",
      "    * check beam current and lifetime, continue if it is OK, otherwise\n",
      "      re-inject some decent current (Yongjun)\n",
      "    \n",
      "    * change on-board corrector current to measure their ORM (using aphla)\n",
      "    \n",
      "    * apply measured ORM to eliminate orbit distortion (relative to the golden)\n",
      "      iteration might be needed to achieve the best performance (using aphla)\n",
      "\n",
      "    * excite beam to get tbt data to extract linear optics offline, change RF to measure\n",
      "      dispersion (using exsiting code)\n",
      "\n",
      "    * measure beam lifetime \n",
      "    \n",
      "    * archive data to hdf5 file's subgroup with gap/phase info\n",
      "    \n",
      "    * if needed, re-calibrate the golden orbit to refresh, then continue the loop\n",
      "    \n",
      "    * if fail, raise error to indicate loop index, so we can continue rather than\n",
      "      restart after machine is restored\n",
      "\n",
      ". ananlyze data, collect on-board correction current at different gap/phase to create\n",
      "  feed-forward table\n",
      "  \n",
      ". restore machine to the status before commissioning, restart orbit feed-back system\n",
      "\n",
      ". archive hdf5 path/name to IDDB\n",
      "'''"
     ],
     "language": "python",
     "metadata": {},
     "outputs": []
    }
   ],
   "metadata": {}
  }
 ]
}