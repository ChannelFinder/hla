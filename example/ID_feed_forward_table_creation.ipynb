{
 "metadata": {
  "name": "",
  "signature": "sha256:ff67f83890074e75ce606ac6b977d6d987eac82f90c7c52334e5dd5f80be81ea"
 },
 "nbformat": 3,
 "nbformat_minor": 0,
 "worksheets": [
  {
   "cells": [
    {
     "cell_type": "heading",
     "level": 1,
     "metadata": {},
     "source": [
      "ID feed forward table creation"
     ]
    },
    {
     "cell_type": "heading",
     "level": 2,
     "metadata": {},
     "source": [
      "Date: 9/24/2014\n",
      "Author: Yongjun Li, Yoshi Hidaka, Lingyun Yang"
     ]
    },
    {
     "cell_type": "code",
     "collapsed": false,
     "input": [
      "%matplotlib inline"
     ],
     "language": "python",
     "metadata": {},
     "outputs": [],
     "prompt_number": 1
    },
    {
     "cell_type": "code",
     "collapsed": false,
     "input": [
      "import time\n",
      "import matplotlib.pylab as plt\n",
      "import numpy as np\n",
      "import scipy as sp\n",
      "import copy\n",
      "import h5py\n",
      "\n",
      "# --- Lingyun's aphla\n",
      "import aphla as ap\n",
      "ap.machines.load('nsls2', 'SR')"
     ],
     "language": "python",
     "metadata": {},
     "outputs": [
      {
       "output_type": "stream",
       "stream": "stderr",
       "text": [
        "WARNING:aphla.unitconv:'dw100g1c18u' has no field 'gap' for unit conversion\n"
       ]
      },
      {
       "output_type": "stream",
       "stream": "stderr",
       "text": [
        "WARNING:aphla.unitconv:'dw100g1c18d' has no field 'gap' for unit conversion\n"
       ]
      },
      {
       "output_type": "stream",
       "stream": "stderr",
       "text": [
        "WARNING:aphla.unitconv:'dw100g1c18u' has no field 'gapd' for unit conversion\n"
       ]
      },
      {
       "output_type": "stream",
       "stream": "stderr",
       "text": [
        "WARNING:aphla.unitconv:'dw100g1c18d' has no field 'gapd' for unit conversion\n"
       ]
      },
      {
       "output_type": "stream",
       "stream": "stderr",
       "text": [
        "WARNING:aphla.unitconv:'dw100g1c18u' has no field 'gapu' for unit conversion\n"
       ]
      },
      {
       "output_type": "stream",
       "stream": "stderr",
       "text": [
        "WARNING:aphla.unitconv:'dw100g1c18d' has no field 'gapu' for unit conversion\n"
       ]
      }
     ],
     "prompt_number": 2
    },
    {
     "cell_type": "code",
     "collapsed": false,
     "input": [
      "from datetime import datetime"
     ],
     "language": "python",
     "metadata": {},
     "outputs": [],
     "prompt_number": 3
    },
    {
     "cell_type": "code",
     "collapsed": false,
     "input": [
      "import nsls2id"
     ],
     "language": "python",
     "metadata": {},
     "outputs": [],
     "prompt_number": 4
    },
    {
     "cell_type": "code",
     "collapsed": false,
     "input": [
      "reload(nsls2id)"
     ],
     "language": "python",
     "metadata": {},
     "outputs": [
      {
       "metadata": {},
       "output_type": "pyout",
       "prompt_number": 5,
       "text": [
        "<module 'nsls2id' from 'nsls2id.pyc'>"
       ]
      }
     ],
     "prompt_number": 5
    },
    {
     "cell_type": "code",
     "collapsed": false,
     "input": [
      "# Body of commissioning\n",
      "\n",
<<<<<<< HEAD
      "    The motion must complete within \"timeout\" in the unit of seconds.\n",
      "    Otherwise, a timeout error will be raised.\n",
      "    \n",
      "    Returns None if success, otherwise throws an exception.\n",
      "    '''\n",
      "\n",
      "    if not online: return True # TODO: To be reomved once we are allowed to move ID motors\n",
      "    \n",
      "    parNames = parDict['names']\n",
      "    bkgList = parDict['bkgTable'].flatten().tolist()\n",
      "    tolList = parDict['tolTable'].flatten().tolist()\n",
      "    \n",
      "    try:\n",
      "        assert len(parNames) == len(bkgList) == len(tolList)\n",
      "    except:\n",
      "        print 'len(parNames) = {0:d}'.format(len(parNames))\n",
      "        print 'len(bkgList) = {0:d}'.format(len(bkgList))\n",
      "        print 'len(tolList) = {0:d}'.format(len(tolList))        \n",
      "        raise RuntimeError('Lengths of \"parNames\", \"bkgList\", and \"tolList\" must be the same.')\n",
      "    \n",
      "    for parName, bkg, tol in zip(parNames, bkgList, tolList):\n",
      "        \n",
      "        print '# Setting ID field \"{0}\" to background value...'.format(parName)                \n",
      "        print 'Current value:', ID.get(parName, unitsys=None)\n",
      "        print 'Target value (Background):', bkg\n",
      "        t0 = time.time()\n",
      "        putParHardCheck(ID, [[parName, bkg, tol]], timeout=timeout)\n",
      "        print '# Finished successfully (time elapsed = {0:.2f} [s])'.format(time.time()-t0)"
     ],
     "language": "python",
     "metadata": {},
     "outputs": []
    },
    {
     "cell_type": "code",
     "collapsed": false,
     "input": [
      "import itertools\n",
      "    \n",
      "def createParDict(parRange):\n",
      "    '''\n",
      "    Create a dictionary that contains processed input parameters for an ID scan.\n",
      "    \n",
      "    parRange: A list of dictionaries, each of which must contain the follwing elements:\n",
      "        \"name\": Either \"gap\" or \"phase\"\n",
      "        \"bkg\": The background (reference) value for the specified parameter. The orbit\n",
      "               measured when the ID parameter is set to this value will be used as the\n",
      "               reference orbit.\n",
      "        \"tol\": Tolerance within which the specified parameter must reach after a target\n",
      "               value is set.\n",
      "        \"unitsymb\": String representing the unit of the parameter values. For \"gap\",\n",
      "                    the valid strings are \"mm\", \"um\", and \"m\". For \"phase\", the valid \n",
      "                    strings are \"deg\".\n",
      "        \"spec_type\": String representing a specification type for the parameter scan \n",
      "                     vector. The valid strings are \"linear\", \"log\", and \"array\".\n",
      "                     If \"linear\" or \"log\" is specified, you must provide \"start\", \"end\",\n",
      "                     and \"num\" values. If \"array\" is specified, you must provide \"array\"\n",
      "                     value.\n",
      "        \"start\": Starting parameter value for the scan. Only relevant if \"spec_type\" is\n",
      "                 \"linear\" or \"log\".\n",
      "        \"end\": Ending parameter value for the scan. Only relevant if \"spec_type\" is \n",
      "               \"linear\" or \"log\".\n",
      "        \"num\": Number of points between \"start\" and \"end\" for the scan. Only relevant if \n",
      "               \"spec_type\" is \"linear\" or \"log\".\n",
      "        \"array\": An iterable (list, tuple, NumPy array) that specifies the scan parameter\n",
      "                 vector. Only relevant if \"spec_type\" is \"array\".\n",
      "                 \n",
      "    Ex.1:\n",
      "    [{'name': \"gap\", 'unitsymb': \"mm\", 'tol': 0.01, 'bkg': 200.0,\n",
      "      'spec_type': \"linear\", 'start': 150.0, 'end': 140.0, 'num': 21},]\n",
      "    Scan table will cover the gaps 150-140 [mm] with 21 steps with linear spacing,\n",
      "    while tolerance is 0.01 [mm], and background is at 200 [mm].\n",
      "    \n",
      "    Ex.2:\n",
      "    [{'name': \"gap\", 'unitsymb': \"mm\", 'tol': 0.01, 'bkg': 200.0,\n",
      "      'spec_type': \"array\", 'array': [150, 50, 30, 15]},]\n",
      "    Scan the gap with the array (150, 50, 30, 15) [mm], while tolerance is 0.01 [mm],\n",
      "    and background is at 200 [mm].\n",
      "\n",
      "    Returns a dictionary that contains the names of the parameters, 1-D scan vectors\n",
      "    for each parameter, the parameter scan table, background/tolerance tables, and\n",
      "    the number of interations after which background orbit needs to be remeasured.\n",
      "    '''\n",
      "\n",
      "    nBkgMeasInterval = None\n",
      "    nlist,vlist,tlist,bkglist = [],[],[],[] #name, value, tolerance, and background list\n",
      "    for p in parRange:\n",
      "        nlist.append(p['name'])\n",
      "\n",
      "        if p['name'] == 'gap':\n",
      "            # Unit conversion factor (change the unit to microns)\n",
      "            if   p['unitsymb'] == 'mm': fac = 1e3\n",
      "            elif p['unitsymb'] == 'm' : fac = 1e6\n",
      "            elif p['unitsymb'] == 'um': fac = 1.0\n",
      "            else:\n",
      "                print '# Valid unit symbols for gap: \"mm\", \"m\", \"um\"'\n",
      "                raise ValueError('Unexpected unit symbol for gap: {0}'.format(p['unitsymb']))\n",
      "        elif p['name'] == 'phase':\n",
      "            # Unit conversion factor (change the unit to degrees)\n",
      "            if p['unitsymb'] == 'deg': fac = 1.0\n",
      "            else:\n",
      "                print '# Valid unit symbols for phase: \"deg\"'\n",
      "                raise ValueError('Unexpected unit symbol for phase: {0}'.format(p['unitsymb']))\n",
      "        else:\n",
      "            print '# Valid field names: \"gap\", \"phase\"'\n",
      "            raise ValueError('Unexpected field name: {0}'.format(p['name']))\n",
      "                             \n",
      "        tlist.append(p['tol']*fac)\n",
      "        bkglist.append(p['bkg']*fac)\n",
      "        \n",
      "        if p['spec_type'] == 'linear':\n",
      "            array = np.linspace(p['start']*fac,p['end']*fac,int(p['num'])).tolist()\n",
      "        elif p['spec_type'] == 'log':\n",
      "            array = np.logspace(np.log10(p['start']*fac), np.log10(p['end']*fac), \n",
      "                                int(p['num'])).tolist()\n",
      "        elif p['spec_type'] == 'array':\n",
      "            array = (np.array(p['array'])*fac).tolist()\n",
      "        else:\n",
      "            print '# Valid array specifiers: \"linear\", \"log\", \"array\"'\n",
      "            raise ValueError('Unexpected array specifier: {0}'.format(p['spec_type']))\n",
      "        vlist.append(array)\n",
      "        \n",
      "        if p['name'] == 'gap':\n",
      "            nBkgMeasInterval = len(array)\n",
      "        \n",
      "    table = np.array(list(itertools.product(*vlist)))\n",
      "    bkgTable = np.array(bkglist).reshape((1,-1))\n",
      "    tolTable = np.array(tlist).reshape((1,-1))\n",
      "    \n",
      "    if nBkgMeasInterval is None: # No re-measuring of background\n",
      "        nBkgMeasInterval = table.shape[0]\n",
      "    \n",
      "    return {'names': nlist, 'vectors': vlist, 'table':table, 'bkgTable':bkgTable,\n",
      "            'tolTable': tolTable, 'nBkgMeasInterval': nBkgMeasInterval}\n",
      "\n",
      "def createParList(parDict):\n",
      "    \"\"\"\n",
      "    Returns a convenience list of lists. Each list element within this returned list\n",
      "    can be directly passed into putParHardCheck() and putParSoftCheck(), which\n",
      "    automatically waits until the ID state reaches a specified target state.\n",
      "    \"\"\"\n",
      "    \n",
      "    parNames = parDict['names']\n",
      "    table    = parDict['table']\n",
      "    tolList  = parDict['tolTable'].flatten().tolist()\n",
      "    \n",
      "    parList = []\n",
      "    for i in range(table.shape[0]):\n",
      "        tmp = []\n",
      "        for j, n in enumerate(parNames):\n",
      "            tmp.append([n, table[i,j], tolList[j]])\n",
      "        parList.append(tmp)\n",
      "                    \n",
      "    return parList\n",
      "\n",
      "# --- test ---\n",
      "#gapMin,gapMax,gapStep = 15000,150000,11\n",
      "#gapMin,gapMax,gapStep,gapBkg = 145000,150000,11,155000\n",
      "#phaseMin,phaseMax,phaseStep,phaseBkg = -24,24,11,0.0\n",
      "#parRange =[['phase','linear',phaseMax,phaseMin,phaseStep,0.1],\n",
      "#           ['gap','log',gapMin,gapMax,gapStep,0.1]]\n",
      "#parRange =[['gap','log',gapMin,gapMax,gapStep, 10.0, gapBkg],]\n",
      "\n",
      "phaseMin,phaseMax,phaseStep,phaseBkg,phaseTol,phaseUnitSymbol = -24,24,11,0.0,0.1,'deg'\n",
      "gapMin,gapMax,gapStep,gapBkg,gapTol,gapUnitSymbol = 145,150,11,155,0.01,'mm'\n",
      "#\n",
      "parRange = [{'name': 'gap', 'unitsymb': gapUnitSymbol, 'tol': gapTol, 'bkg': gapBkg,\n",
      "             'spec_type': 'log', 'start': gapMax, 'end': gapMin, 'num': gapStep},]\n",
      "#parRange = [{'name': 'gap', 'unitsymb': gapUnitSymbol, 'tol': gapTol, 'bkg': gapBkg,\n",
      "#             'spec_type': 'array', 'array': np.linspace(gapMax, gapMin, gapStep)},]\n",
      "#parRange = [{'name': 'phase', 'unitsymb': phaseUnitSymbol, 'tol': phaseTol, 'bkg': phaseBkg,\n",
      "#             'spec_type': 'linear', 'start': phaseMin, 'end': phaseMax, 'num': phaseStep},\n",
      "#            {'name': 'gap', 'unitsymb': gapUnitSymbol, 'tol': gapTol, 'bkg': gapBkg,\n",
      "#             'spec_type': 'log', 'start': gapMax, 'end': gapMin, 'num': gapStep},]\n",
      "\n",
      "parDict = createParDict(parRange)\n",
      "parList = createParList(parDict)\n",
      "\n",
      "#zeroTable = getZeroed1DFeedForwardTable(parDict, 6)\n",
      "#save1DFeedForwardTable('test_ff0.txt', zeroTable)\n",
      "\n",
      "print 'parList:'\n",
      "for i,ai in enumerate(parList):\n",
      "    print '%03d:'%i, ai\n",
      "print 'names:', parDict['names']\n",
      "print 'table:'\n",
      "print parDict['table']\n",
      "print 'vectors:'\n",
      "print parDict['vectors']\n",
      "print 'bkgTable:',  parDict['bkgTable']\n",
      "print 'tolTable:', parDict['tolTable']\n",
      "print 'nBkgMeasInterval:', parDict['nBkgMeasInterval']\n",
      "\n",
      "for v in parDict['vectors']:\n",
      "    plt.figure()\n",
      "    _ = plt.plot(v, '.-')"
     ],
     "language": "python",
     "metadata": {},
     "outputs": [
      {
       "output_type": "stream",
       "stream": "stdout",
       "text": [
        "parList:\n",
        "000: [['gap', 150000.00000000003, 10.0]]\n",
        "001: [['gap', 149492.33773800524, 10.0]]\n",
        "002: [['gap', 148986.39361582513, 10.0]]\n",
        "003: [['gap', 148482.16181856208, 10.0]]\n",
        "004: [['gap', 147979.63655099747, 10.0]]\n",
        "005: [['gap', 147478.81203752648, 10.0]]\n",
        "006: [['gap', 146979.682522091, 10.0]]\n",
        "007: [['gap', 146482.24226811473, 10.0]]\n",
        "008: [['gap', 145986.48555843538, 10.0]]\n",
        "009: [['gap', 145492.40669523994, 10.0]]\n",
        "010: [['gap', 145000.00000000012, 10.0]]\n",
        "names: ['gap']\n",
        "table:\n",
        "[[ 150000.        ]\n",
        " [ 149492.33773801]\n",
        " [ 148986.39361583]\n",
        " [ 148482.16181856]\n",
        " [ 147979.636551  ]\n",
        " [ 147478.81203753]\n",
        " [ 146979.68252209]\n",
        " [ 146482.24226811]\n",
        " [ 145986.48555844]\n",
        " [ 145492.40669524]\n",
        " [ 145000.        ]]\n",
        "vectors:\n",
        "[[150000.00000000003, 149492.33773800524, 148986.39361582513, 148482.16181856208, 147979.63655099747, 147478.81203752648, 146979.682522091, 146482.24226811473, 145986.48555843538, 145492.40669523994, 145000.00000000012]]\n",
        "bkgTable: [[ 155000.]]\n",
        "tolTable: [[ 10.]]\n",
        "nBkgMeasInterval: 11\n"
       ]
      },
      {
       "metadata": {},
       "output_type": "display_data",
       "png": "iVBORw0KGgoAAAANSUhEUgAAAYsAAAEACAYAAABCl1qQAAAABHNCSVQICAgIfAhkiAAAAAlwSFlz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\nAABJRU5ErkJggg==\n",
       "text": [
        "<matplotlib.figure.Figure at 0x110d70590>"
       ]
      }
     ],
     "prompt_number": 1
    },
    {
     "cell_type": "code",
     "collapsed": false,
     "input": [
      "def chkBeam(Imin=2, Tmin=2, online=False):\n",
      "    '''\n",
      "    check beam life time and current\n",
      "    if beam lifetime is less than Tmin [hr], 2hrs by default,\n",
      "    or current is less then Imin [mA], 2mA by default\n",
      "    return False, otherwise True\n",
      "    '''\n",
      "    if not online: return True # TODO: To be reomved once we are allowed to move ID motors\n",
      "\n",
      "    Ibpvrb = 'SR:C03-BI{DCCT:1}I:Total-I'\n",
      "    Ib = ap.caget(Ibpvrb)\n",
      "    ltpvrb = 'SR:C03-BI{DCCT:1}Lifetime-I' #'SR-BI{}BPM_lifetimeAve-I'\n",
      "    lt = ap.caget(ltpvrb)\n",
      "\n",
      "    if Ib < Imin:\n",
      "        print 'Beam current too low ({0} < {1})'.format(Ib, Imin)\n",
      "        return False\n",
=======
      "import sys\n",
>>>>>>> lyyang
      "\n",
      "# parameter List, will read from DB or specified by user\n",
      "IDName = 'dw100g1c08u'\n",
      "#--- get ID instance\n",
      "ID = ap.getElements(IDName)[0]\n",
      "\n",
      "# min, max, step, tolerance\n",
      "nsls2id._params[IDName][\"gap\"] = (145, 147, 3, 0.1)\n",
      "motorRate = 1000.0\n",
      "#parRange =[['gap','log',gapMax,gapMin,gapStep,gapTol],\n",
      "#           ['phase','linear',phaseMax,phaseMin,phaseStep,phaseTol]]\n",
      "#nbkgrd = 10  # redo background check after nbkgrd iterative status\n",
      "userBPM = False # if user BPM included\n",
      "\n",
      "#--- create parameter list for loop, name and table for hdf5 \n",
      "parList,parName,parTable = nsls2id.createParList(ID, [('gap', 'log'), ('phase', 'linear')])\n",
      "for pl in parList:\n",
      "    print pl\n",
      "# the default output path: /epics/data/aphla/SR/2014_09/ID\n",
      "outputFile = nsls2id.initFile(ID, parName, parTable)"
     ],
     "language": "python",
     "metadata": {},
     "outputs": [
      {
       "output_type": "stream",
       "stream": "stdout",
       "text": [
        "[['gap', 144.99999999999997, 0.1]]\n",
        "[['gap', 145.99657530229945, 0.1]]\n",
        "[['gap', 146.99999999999997, 0.1]]\n",
        "['gap']\n",
        "[[ 145.       ]\n",
        " [ 145.9965753]\n",
        " [ 147.       ]]\n"
       ]
      }
     ],
     "prompt_number": 6
    },
    {
     "cell_type": "code",
     "collapsed": false,
     "input": [
      "### pre-check ###\n",
      "\n",
      "#--- switch off other orbit feedback\n",
      "nsls2id.switchFeedback(fftable=\"off\")\n",
      "#nsls2id.switchFeedback(fftable=\"on\")\n",
      "# fast/slow co\n",
      "# all ID feed forward\n"
     ],
     "language": "python",
     "metadata": {},
     "outputs": [
      {
       "output_type": "stream",
       "stream": "stdout",
       "text": [
        "set SR:C08-ID:G1{DW100:1}MPS:Lookup_.INPA='SR:C08-ID:G1{DW100:1-Mtr:Gap}.RBV NPP N'\n",
        "set SR:C08-ID:G1{DW100:2}MPS:Lookup_.INPA='SR:C08-ID:G1{DW100:2-Mtr:Gap}.RBV NPP N'\n",
        "WARNING: no 'gap' field in dw100g1c18u"
       ]
      },
      {
       "output_type": "stream",
       "stream": "stdout",
       "text": [
        "\n",
        "WARNING: no 'gap' field in dw100g1c18d\n",
        "set SR:C28-ID:G1{DW100:1}MPS:Lookup_.INPA='SR:C28-ID:G1{DW100:1-Mtr:Gap}.RBV NPP N'\n",
        "set SR:C28-ID:G1{DW100:2}MPS:Lookup_.INPA='SR:C28-ID:G1{DW100:2-Mtr:Gap}.RBV NPP N'\n"
       ]
      }
     ],
     "prompt_number": 7
    },
    {
     "cell_type": "code",
     "collapsed": false,
     "input": [
      "# weixing Bunch by Bunch\n",
      "\n",
      "#--- check beam conditions\n",
      "if not nsls2id.checkBeam():\n",
      "    raise RuntimeError(\"Beam has low current or lifetime.\")"
     ],
     "language": "python",
     "metadata": {},
     "outputs": [
      {
       "output_type": "stream",
       "stream": "stdout",
       "text": [
        "Beam current too low (0.0206284521597 < 2)\n"
       ]
      },
      {
       "ename": "RuntimeError",
       "evalue": "Beam has low current or lifetime.",
       "output_type": "pyerr",
       "traceback": [
        "\u001b[1;31m---------------------------------------------------------------------------\u001b[0m\n\u001b[1;31mRuntimeError\u001b[0m                              Traceback (most recent call last)",
        "\u001b[1;32m<ipython-input-9-161624f07948>\u001b[0m in \u001b[0;36m<module>\u001b[1;34m()\u001b[0m\n\u001b[0;32m      3\u001b[0m \u001b[1;31m#--- check beam conditions\u001b[0m\u001b[1;33m\u001b[0m\u001b[1;33m\u001b[0m\u001b[0m\n\u001b[0;32m      4\u001b[0m \u001b[1;32mif\u001b[0m \u001b[1;32mnot\u001b[0m \u001b[0mnsls2id\u001b[0m\u001b[1;33m.\u001b[0m\u001b[0mcheckBeam\u001b[0m\u001b[1;33m(\u001b[0m\u001b[1;33m)\u001b[0m\u001b[1;33m:\u001b[0m\u001b[1;33m\u001b[0m\u001b[0m\n\u001b[1;32m----> 5\u001b[1;33m     \u001b[1;32mraise\u001b[0m \u001b[0mRuntimeError\u001b[0m\u001b[1;33m(\u001b[0m\u001b[1;34m\"Beam has low current or lifetime.\"\u001b[0m\u001b[1;33m)\u001b[0m\u001b[1;33m\u001b[0m\u001b[0m\n\u001b[0m",
        "\u001b[1;31mRuntimeError\u001b[0m: Beam has low current or lifetime."
       ]
      }
     ],
     "prompt_number": 9
    },
    {
     "cell_type": "code",
     "collapsed": false,
     "input": [
      "#--- check ID gap and phase control\n",
      "if not nsls2id.checkGapPhase(ID, verbose=1, gapStep=5):\n",
      "    raise RuntimeError(\"failed at checking ID '{0}' status\".format(ID.name))"
     ],
     "language": "python",
     "metadata": {},
     "outputs": [
      {
       "output_type": "stream",
       "stream": "stderr",
       "text": [
        "ERROR:aphla.element:error on reading PV limits SR:C08-ID:G1{DW100:1}Man:SP:Gap\n"
       ]
      },
      {
       "output_type": "stream",
       "stream": "stderr",
       "text": [
        "ERROR:aphla.element:error on reading PV limits SR:C08-ID:G1{DW100:1}ManG:Go_.PROC\n"
       ]
      }
     ],
     "prompt_number": 8
    },
    {
     "cell_type": "code",
     "collapsed": false,
     "input": [
      "nsls2id.putBackground(ID, timeout=150,throw=True,unitsys='phy',verbose=1)"
     ],
     "language": "python",
     "metadata": {},
     "outputs": [
      {
       "output_type": "stream",
       "stream": "stderr",
       "text": [
        "ERROR:aphla.element:error on reading PV limits SR:C08-ID:G1{DW100:1}MPS:ch0:setpoint\n"
       ]
      },
      {
       "output_type": "stream",
       "stream": "stderr",
       "text": [
        "ERROR:aphla.element:error on reading PV limits SR:C08-ID:G1{DW100:1}MPS:ch1:setpoint\n"
       ]
      },
      {
       "output_type": "stream",
       "stream": "stderr",
       "text": [
        "ERROR:aphla.element:error on reading PV limits SR:C08-ID:G1{DW100:1}MPS:ch2:setpoint\n"
       ]
      },
      {
       "output_type": "stream",
       "stream": "stderr",
       "text": [
        "ERROR:aphla.element:error on reading PV limits SR:C08-ID:G1{DW100:1}MPS:ch3:setpoint\n"
       ]
      },
      {
       "output_type": "stream",
       "stream": "stderr",
       "text": [
        "ERROR:aphla.element:error on reading PV limits SR:C08-ID:G1{DW100:1}MPS:ch4:setpoint\n"
       ]
      },
      {
       "output_type": "stream",
       "stream": "stderr",
       "text": [
        "ERROR:aphla.element:error on reading PV limits SR:C08-ID:G1{DW100:1}MPS:ch5:setpoint\n"
       ]
      },
      {
       "metadata": {},
       "output_type": "pyout",
       "prompt_number": 10,
       "text": [
        "True"
       ]
      }
     ],
     "prompt_number": 10
    },
    {
     "cell_type": "code",
     "collapsed": false,
     "input": [
      "#--- BPM and on-board corrector list for orbit ORM measurement\n",
      "userBPM = False\n",
      "bpms = ap.getElements('BPM')\n",
      "if userBPM: bpms += ap.getElements('UBPM')\n",
      "bpmflds = []\n",
      "for bpm in bpms:\n",
      "    bpmflds.append([bpm,'x'])\n",
      "    bpmflds.append([bpm,'y'])\n",
      "\n",
      "corflds = nsls2id.createCorrectorField(ID)\n",
      "print corflds\n",
      "print len(bpms)"
     ],
     "language": "python",
     "metadata": {},
     "outputs": [
      {
       "output_type": "stream",
       "stream": "stdout",
       "text": [
        "[(dw100g1c08u:DW @ sb=207.598000, 'cch0'), (dw100g1c08u:DW @ sb=207.598000, 'cch1'), (dw100g1c08u:DW @ sb=207.598000, 'cch2'), (dw100g1c08u:DW @ sb=207.598000, 'cch3'), (dw100g1c08u:DW @ sb=207.598000, 'cch4'), (dw100g1c08u:DW @ sb=207.598000, 'cch5')]\n",
        "180\n"
       ]
      }
     ],
     "prompt_number": 11
    },
    {
     "cell_type": "code",
     "collapsed": false,
     "input": [
      "obt = ap.getOrbit(spos=True)\n",
      "plt.plot(obt[:,-1], obt[:,0], '-')"
     ],
     "language": "python",
     "metadata": {},
     "outputs": [
      {
       "metadata": {},
       "output_type": "pyout",
       "prompt_number": 12,
       "text": [
        "[<matplotlib.lines.Line2D at 0x7613d10>]"
       ]
      },
      {
       "metadata": {},
       "output_type": "display_data",
       "png": "iVBORw0KGgoAAAANSUhEUgAAAYAAAAD9CAYAAAC1DKAUAAAABHNCSVQICAgIfAhkiAAAAAlwSFlz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\nSEgkKCQBSEhISCQo/j/Q6Injv0pHmwAAAABJRU5ErkJggg==\n",
       "text": [
        "<matplotlib.figure.Figure at 0x9e98650>"
       ]
      }
     ],
     "prompt_number": 12
    },
    {
     "cell_type": "code",
     "collapsed": false,
     "input": [
      "# --- begin main loop\n",
      "bkgIndex, bkgGroup = 0, None\n",
      "nbkgrd = 10 # save backgroud every 10 points\n",
      "igroup = 0\n",
      "dispersion = False\n",
      "Tbt = False\n",
      "\n",
      "for niter,par in enumerate(parList):\n",
      "    #--- print progress\n",
      "    print '%03i/%03i:'% (niter,len(parList)), par\n",
      "    #--- check beam for condition every status\n",
      "    #if not nsls2id.checkBeam(Imin=Imin,Tmin=Tmin):\n",
      "    #   break\n",
      "    #--- check if re-calibration of golden orbit\n",
      "    if np.mod(niter,nbkgrd) == 0:\n",
      "        bkgGroup = nsls2id.measBackground(ID, outputFile, igroup):\n",
      "    if not bkgGroup:\n",
      "        print \"Failed at measuring background\"\n",
      "        break\n",
      "        \n",
      "    #--- put parameters, then measure ORM of on-board corrector, implement correction\n",
      "    #--- measure TbT data, save data\n",
      "    #if not nsls2id.putPar(ID, par):\n",
      "    #    print \"Failed at setting {0}\".format(par)\n",
      "    #    break\n",
      "\n",
      "    print(\"Go to EDM to set Gap:\", par)\n",
      "    wait_for_your_input(\"are you done with EDM? [y/n]\")\n",
      "    \n",
      "    fid = h5py.File(outputFile)\n",
      "    prefix = \"iter_\"\n",
      "    iterindex = max([int(g[len(prefix):]) for g in fid[ID.name].keys()\n",
      "                     if g.startswith(prefix)] + [-1]) + 1\n",
      "    grpname = \"iter_{0:04d}\".format(iterindex)\n",
      "    fid.close()\n",
      "\n",
      "    # --- Lingyun's contribution later\n",
      "    rm = ap.measOrbitRm(bpmflds, corflds, dxmax=3, output=outputFile,\n",
      "                        h5group=\"%s/%s/orm\" % (ID.name, grpname))\n",
      "    orb1 = ap.getOrbit(spos=False)\n",
      "    #ap.corrOrbit(orb1-orb0,rm)\n",
      "    \n",
      "    if Tbt:\n",
      "        #trig pinger\n",
      "        (name, x, y, Isum, ts, offset), tbtoutput = ap.nsls2.getSrBpmData(output=True, trig=1, count=2000)\n",
      "    if dispersion:\n",
      "        ap.measDispersion(output=outputFile, h5group=\"%s/%s/dispersion\" % (ID.name, grpname))\n",
      "    \n",
      "    t1 = datetime.now()    \n",
      "    fid = h5py.File(outputFile)\n",
      "    grp = fid[ID.name][grpname]\n",
      "    grp.attrs[\"iteration\"] = niter\n",
      "    grp.attrs[\"background\"] = bkgGroup\n",
      "    grp[\"tune\"] = ap.getTunes()\n",
      "    grp[\"orbit\"] = orb1\n",
      "    if Tbt:\n",
      "        grp.attrs[\"Tbt\"] = tbtoutput\n",
      "    grp['controlCurrent'] = ID.cch\n",
      "    # save the par setpoint in raw unit\n",
      "    for parname, val, vtol in par:\n",
      "        grp[parname] = ID.get(parname, unitsys=None, handle=\"setpoint\")\n",
      "        grp[parname].attrs[\"unitsys\"] = \"None\"\n",
      "        grp[parname].attrs[\"handle\"] = \"setpoint\"\n",
      "    grp.attrs[\"completed\"] = t1.strftime(\"%Y-%m-%d %H:%M:%S.%f\")\n",
      "    fid.close()\n"
     ],
     "language": "python",
     "metadata": {},
     "outputs": [
      {
       "output_type": "stream",
       "stream": "stderr",
       "text": [
        "WARNING:aphla.aptools:Timeout at dw100g1c08u.cch0= -3.0, i= 0, delta= -3.0\n"
       ]
      },
      {
       "output_type": "stream",
       "stream": "stdout",
       "text": [
        "000/003: [['gap', 144.99999999999997, 0.1]]\n",
        "dw100g1c08u.cch0= 0"
       ]
      },
      {
       "output_type": "stream",
       "stream": "stdout",
       "text": [
        "\n"
       ]
      },
      {
       "output_type": "stream",
       "stream": "stderr",
       "text": [
        "WARNING:aphla.aptools:Timeout at dw100g1c08u.cch0= -1.0, i= 1, delta= -1.0\n"
       ]
      },
      {
       "output_type": "stream",
       "stream": "stdout",
       "text": [
        "dw100g1c08u.cch0= 0\n"
       ]
      },
      {
       "output_type": "stream",
       "stream": "stderr",
       "text": [
        "WARNING:aphla.aptools:Timeout at dw100g1c08u.cch0= 1.0, i= 2, delta= 1.0\n"
       ]
      },
      {
       "output_type": "stream",
       "stream": "stdout",
       "text": [
        "dw100g1c08u.cch0= 0\n"
       ]
      },
      {
       "output_type": "stream",
       "stream": "stderr",
       "text": [
        "WARNING:aphla.aptools:Timeout at dw100g1c08u.cch0= 3.0, i= 3, delta= 3.0\n"
       ]
      },
      {
       "output_type": "stream",
       "stream": "stdout",
       "text": [
        "dw100g1c08u.cch0= 0\n"
       ]
      },
      {
       "output_type": "stream",
       "stream": "stderr",
       "text": [
        "WARNING:aphla.aptools:Timeout at restoring dw100g1c08u.cch0= 0\n"
       ]
      },
      {
       "output_type": "stream",
       "stream": "stdout",
       "text": [
        "Timeout at restoring dw100g1c08u.cch0= 0\n"
       ]
      },
      {
       "output_type": "stream",
       "stream": "stderr",
       "text": [
        "WARNING:aphla.aptools:Timeout at dw100g1c08u.cch1= -3.0, i= 0, delta= -3.0\n"
       ]
      },
      {
       "output_type": "stream",
       "stream": "stdout",
       "text": [
        "dw100g1c08u.cch1= 0\n"
       ]
      },
      {
       "output_type": "stream",
       "stream": "stderr",
       "text": [
        "WARNING:aphla.aptools:Timeout at dw100g1c08u.cch1= -1.0, i= 1, delta= -1.0\n"
       ]
      },
      {
       "output_type": "stream",
       "stream": "stdout",
       "text": [
        "dw100g1c08u.cch1= 0\n"
       ]
      },
      {
       "output_type": "stream",
       "stream": "stderr",
       "text": [
        "WARNING:aphla.aptools:Timeout at dw100g1c08u.cch1= 1.0, i= 2, delta= 1.0\n"
       ]
      },
      {
       "output_type": "stream",
       "stream": "stdout",
       "text": [
        "dw100g1c08u.cch1= 0\n"
       ]
      },
      {
       "output_type": "stream",
       "stream": "stderr",
       "text": [
        "WARNING:aphla.aptools:Timeout at dw100g1c08u.cch1= 3.0, i= 3, delta= 3.0\n"
       ]
      },
      {
       "output_type": "stream",
       "stream": "stdout",
       "text": [
        "dw100g1c08u.cch1= 0\n"
       ]
      },
      {
       "output_type": "stream",
       "stream": "stderr",
       "text": [
        "WARNING:aphla.aptools:Timeout at restoring dw100g1c08u.cch1= 0\n"
       ]
      },
      {
       "output_type": "stream",
       "stream": "stdout",
       "text": [
        "Timeout at restoring dw100g1c08u.cch1= 0\n"
       ]
      },
      {
       "output_type": "stream",
       "stream": "stderr",
       "text": [
        "WARNING:aphla.aptools:Timeout at dw100g1c08u.cch2= -3.0, i= 0, delta= -3.0\n"
       ]
      },
      {
       "output_type": "stream",
       "stream": "stdout",
       "text": [
        "dw100g1c08u.cch2= 0\n"
       ]
      },
      {
       "output_type": "stream",
       "stream": "stderr",
       "text": [
        "WARNING:aphla.aptools:Timeout at dw100g1c08u.cch2= -1.0, i= 1, delta= -1.0\n"
       ]
      },
      {
       "output_type": "stream",
       "stream": "stdout",
       "text": [
        "dw100g1c08u.cch2= 0\n"
       ]
      },
      {
       "output_type": "stream",
       "stream": "stderr",
       "text": [
        "WARNING:aphla.aptools:Timeout at dw100g1c08u.cch2= 1.0, i= 2, delta= 1.0\n"
       ]
      },
      {
       "output_type": "stream",
       "stream": "stdout",
       "text": [
        "dw100g1c08u.cch2= 0\n"
       ]
      },
      {
       "output_type": "stream",
       "stream": "stderr",
       "text": [
        "WARNING:aphla.aptools:Timeout at dw100g1c08u.cch2= 3.0, i= 3, delta= 3.0\n"
       ]
      },
      {
       "output_type": "stream",
       "stream": "stdout",
       "text": [
        "dw100g1c08u.cch2= 0\n"
       ]
      },
      {
       "output_type": "stream",
       "stream": "stderr",
       "text": [
        "WARNING:aphla.aptools:Timeout at restoring dw100g1c08u.cch2= 0\n"
       ]
      },
      {
       "output_type": "stream",
       "stream": "stdout",
       "text": [
        "Timeout at restoring dw100g1c08u.cch2= 0\n"
       ]
      },
      {
       "output_type": "stream",
       "stream": "stderr",
       "text": [
        "WARNING:aphla.aptools:Timeout at dw100g1c08u.cch3= -3.0, i= 0, delta= -3.0\n"
       ]
      },
      {
       "output_type": "stream",
       "stream": "stdout",
       "text": [
        "dw100g1c08u.cch3= 0\n"
       ]
      },
      {
       "output_type": "stream",
       "stream": "stderr",
       "text": [
        "WARNING:aphla.aptools:Timeout at dw100g1c08u.cch3= -1.0, i= 1, delta= -1.0\n"
       ]
      },
      {
       "output_type": "stream",
       "stream": "stdout",
       "text": [
        "dw100g1c08u.cch3= 0\n"
       ]
      },
      {
       "output_type": "stream",
       "stream": "stderr",
       "text": [
        "WARNING:aphla.aptools:Timeout at dw100g1c08u.cch3= 1.0, i= 2, delta= 1.0\n"
       ]
      },
      {
       "output_type": "stream",
       "stream": "stdout",
       "text": [
        "dw100g1c08u.cch3= 0\n"
       ]
      },
      {
       "output_type": "stream",
       "stream": "stderr",
       "text": [
        "WARNING:aphla.aptools:Timeout at dw100g1c08u.cch3= 3.0, i= 3, delta= 3.0\n"
       ]
      },
      {
       "output_type": "stream",
       "stream": "stdout",
       "text": [
        "dw100g1c08u.cch3= 0\n"
       ]
      },
      {
       "output_type": "stream",
       "stream": "stderr",
       "text": [
        "WARNING:aphla.aptools:Timeout at restoring dw100g1c08u.cch3= 0\n"
       ]
      },
      {
       "output_type": "stream",
       "stream": "stdout",
       "text": [
        "Timeout at restoring dw100g1c08u.cch3= 0\n"
       ]
      },
      {
       "output_type": "stream",
       "stream": "stderr",
       "text": [
        "WARNING:aphla.aptools:Timeout at dw100g1c08u.cch4= -3.0, i= 0, delta= -3.0\n"
       ]
      },
      {
       "output_type": "stream",
       "stream": "stdout",
       "text": [
        "dw100g1c08u.cch4= 0\n"
       ]
      },
      {
       "output_type": "stream",
       "stream": "stderr",
       "text": [
        "WARNING:aphla.aptools:Timeout at dw100g1c08u.cch4= -1.0, i= 1, delta= -1.0\n"
       ]
      },
      {
       "output_type": "stream",
       "stream": "stdout",
       "text": [
        "dw100g1c08u.cch4= 0\n"
       ]
      },
      {
       "output_type": "stream",
       "stream": "stderr",
       "text": [
        "WARNING:aphla.aptools:Timeout at dw100g1c08u.cch4= 1.0, i= 2, delta= 1.0\n"
       ]
      },
      {
       "output_type": "stream",
       "stream": "stdout",
       "text": [
        "dw100g1c08u.cch4= 0\n"
       ]
      },
      {
       "output_type": "stream",
       "stream": "stderr",
       "text": [
        "WARNING:aphla.aptools:Timeout at dw100g1c08u.cch4= 3.0, i= 3, delta= 3.0\n"
       ]
      },
      {
       "output_type": "stream",
       "stream": "stdout",
       "text": [
        "dw100g1c08u.cch4= 0\n"
       ]
      },
      {
       "output_type": "stream",
       "stream": "stderr",
       "text": [
        "WARNING:aphla.aptools:Timeout at restoring dw100g1c08u.cch4= 0\n"
       ]
      },
      {
       "output_type": "stream",
       "stream": "stdout",
       "text": [
        "Timeout at restoring dw100g1c08u.cch4= 0\n"
       ]
      },
      {
       "output_type": "stream",
       "stream": "stderr",
       "text": [
        "WARNING:aphla.aptools:Timeout at dw100g1c08u.cch5= -3.0, i= 0, delta= -3.0\n"
       ]
      },
      {
       "output_type": "stream",
       "stream": "stdout",
       "text": [
        "dw100g1c08u.cch5= 0\n"
       ]
      },
      {
       "output_type": "stream",
       "stream": "stderr",
       "text": [
        "WARNING:aphla.aptools:Timeout at dw100g1c08u.cch5= -1.0, i= 1, delta= -1.0\n"
       ]
      },
      {
       "output_type": "stream",
       "stream": "stdout",
       "text": [
        "dw100g1c08u.cch5= 0\n"
       ]
      },
      {
       "output_type": "stream",
       "stream": "stderr",
       "text": [
        "WARNING:aphla.aptools:Timeout at dw100g1c08u.cch5= 1.0, i= 2, delta= 1.0\n"
       ]
      },
      {
       "output_type": "stream",
       "stream": "stdout",
       "text": [
        "dw100g1c08u.cch5= 0\n"
       ]
      },
      {
       "output_type": "stream",
       "stream": "stderr",
       "text": [
        "WARNING:aphla.aptools:Timeout at dw100g1c08u.cch5= 3.0, i= 3, delta= 3.0\n"
       ]
      },
      {
       "output_type": "stream",
       "stream": "stdout",
       "text": [
        "dw100g1c08u.cch5= 0\n"
       ]
      },
      {
       "output_type": "stream",
       "stream": "stderr",
       "text": [
        "WARNING:aphla.aptools:Timeout at restoring dw100g1c08u.cch5= 0\n"
       ]
      },
      {
       "output_type": "stream",
       "stream": "stdout",
       "text": [
        "Timeout at restoring dw100g1c08u.cch5= 0\n"
       ]
      },
      {
       "output_type": "stream",
       "stream": "stderr",
       "text": [
        "WARNING:aphla.aptools:Timeout at dw100g1c08u.cch0= -3.0, i= 0, delta= -3.0\n"
       ]
      },
      {
       "output_type": "stream",
       "stream": "stdout",
       "text": [
        "001/003: [['gap', 145.99657530229945, 0.1]]\n",
        "dw100g1c08u.cch0= 0"
       ]
      },
      {
       "output_type": "stream",
       "stream": "stdout",
       "text": [
        "\n"
       ]
      },
      {
       "output_type": "stream",
       "stream": "stderr",
       "text": [
        "WARNING:aphla.aptools:Timeout at dw100g1c08u.cch0= -1.0, i= 1, delta= -1.0\n"
       ]
      },
      {
       "output_type": "stream",
       "stream": "stdout",
       "text": [
        "dw100g1c08u.cch0= 0\n"
       ]
      },
      {
       "output_type": "stream",
       "stream": "stderr",
       "text": [
        "WARNING:aphla.aptools:Timeout at dw100g1c08u.cch0= 1.0, i= 2, delta= 1.0\n"
       ]
      },
      {
       "output_type": "stream",
       "stream": "stdout",
       "text": [
        "dw100g1c08u.cch0= 0\n"
       ]
      },
      {
       "output_type": "stream",
       "stream": "stderr",
       "text": [
        "WARNING:aphla.aptools:Timeout at dw100g1c08u.cch0= 3.0, i= 3, delta= 3.0\n"
       ]
      },
      {
       "output_type": "stream",
       "stream": "stdout",
       "text": [
        "dw100g1c08u.cch0= 0\n"
       ]
      },
      {
       "output_type": "stream",
       "stream": "stderr",
       "text": [
        "WARNING:aphla.aptools:Timeout at restoring dw100g1c08u.cch0= 0\n"
       ]
      },
      {
       "output_type": "stream",
       "stream": "stdout",
       "text": [
        "Timeout at restoring dw100g1c08u.cch0= 0\n"
       ]
      },
      {
       "output_type": "stream",
       "stream": "stderr",
       "text": [
        "WARNING:aphla.aptools:Timeout at dw100g1c08u.cch1= -3.0, i= 0, delta= -3.0\n"
       ]
      },
      {
       "output_type": "stream",
       "stream": "stdout",
       "text": [
        "dw100g1c08u.cch1= 0\n"
       ]
      },
      {
       "output_type": "stream",
       "stream": "stderr",
       "text": [
        "WARNING:aphla.aptools:Timeout at dw100g1c08u.cch1= -1.0, i= 1, delta= -1.0\n"
       ]
      },
      {
       "output_type": "stream",
       "stream": "stdout",
       "text": [
        "dw100g1c08u.cch1= 0\n"
       ]
      },
      {
       "output_type": "stream",
       "stream": "stderr",
       "text": [
        "WARNING:aphla.aptools:Timeout at dw100g1c08u.cch1= 1.0, i= 2, delta= 1.0\n"
       ]
      },
      {
       "output_type": "stream",
       "stream": "stdout",
       "text": [
        "dw100g1c08u.cch1= 0\n"
       ]
      },
      {
       "output_type": "stream",
       "stream": "stderr",
       "text": [
        "WARNING:aphla.aptools:Timeout at dw100g1c08u.cch1= 3.0, i= 3, delta= 3.0\n"
       ]
      },
      {
       "output_type": "stream",
       "stream": "stdout",
       "text": [
        "dw100g1c08u.cch1= 0\n"
       ]
      },
      {
       "output_type": "stream",
       "stream": "stderr",
       "text": [
        "WARNING:aphla.aptools:Timeout at restoring dw100g1c08u.cch1= 0\n"
       ]
      },
      {
       "output_type": "stream",
       "stream": "stdout",
       "text": [
        "Timeout at restoring dw100g1c08u.cch1= 0\n"
       ]
      },
      {
       "output_type": "stream",
       "stream": "stderr",
       "text": [
        "WARNING:aphla.aptools:Timeout at dw100g1c08u.cch2= -3.0, i= 0, delta= -3.0\n"
       ]
      },
      {
       "output_type": "stream",
       "stream": "stdout",
       "text": [
        "dw100g1c08u.cch2= 0\n"
       ]
      },
      {
       "output_type": "stream",
       "stream": "stderr",
       "text": [
        "WARNING:aphla.aptools:Timeout at dw100g1c08u.cch2= -1.0, i= 1, delta= -1.0\n"
       ]
      },
      {
       "output_type": "stream",
       "stream": "stdout",
       "text": [
        "dw100g1c08u.cch2= 0\n"
       ]
      },
      {
       "output_type": "stream",
       "stream": "stderr",
       "text": [
        "WARNING:aphla.aptools:Timeout at dw100g1c08u.cch2= 1.0, i= 2, delta= 1.0\n"
       ]
      },
      {
       "output_type": "stream",
       "stream": "stdout",
       "text": [
        "dw100g1c08u.cch2= 0\n"
       ]
      },
      {
       "output_type": "stream",
       "stream": "stderr",
       "text": [
        "WARNING:aphla.aptools:Timeout at dw100g1c08u.cch2= 3.0, i= 3, delta= 3.0\n"
       ]
      },
      {
       "output_type": "stream",
       "stream": "stdout",
       "text": [
        "dw100g1c08u.cch2= 0\n"
       ]
      },
      {
       "output_type": "stream",
       "stream": "stderr",
       "text": [
        "WARNING:aphla.aptools:Timeout at restoring dw100g1c08u.cch2= 0\n"
       ]
      },
      {
       "output_type": "stream",
       "stream": "stdout",
       "text": [
        "Timeout at restoring dw100g1c08u.cch2= 0\n"
       ]
      },
      {
       "output_type": "stream",
       "stream": "stderr",
       "text": [
        "WARNING:aphla.aptools:Timeout at dw100g1c08u.cch3= -3.0, i= 0, delta= -3.0\n"
       ]
      },
      {
       "output_type": "stream",
       "stream": "stdout",
       "text": [
        "dw100g1c08u.cch3= 0\n"
       ]
      },
      {
       "output_type": "stream",
       "stream": "stderr",
       "text": [
        "WARNING:aphla.aptools:Timeout at dw100g1c08u.cch3= -1.0, i= 1, delta= -1.0\n"
       ]
      },
      {
       "output_type": "stream",
       "stream": "stdout",
       "text": [
        "dw100g1c08u.cch3= 0\n"
       ]
      },
      {
       "output_type": "stream",
       "stream": "stderr",
       "text": [
        "WARNING:aphla.aptools:Timeout at dw100g1c08u.cch3= 1.0, i= 2, delta= 1.0\n"
       ]
      },
      {
       "output_type": "stream",
       "stream": "stdout",
       "text": [
        "dw100g1c08u.cch3= 0\n"
       ]
      },
      {
       "output_type": "stream",
       "stream": "stderr",
       "text": [
        "WARNING:aphla.aptools:Timeout at dw100g1c08u.cch3= 3.0, i= 3, delta= 3.0\n"
       ]
      },
      {
       "output_type": "stream",
       "stream": "stdout",
       "text": [
        "dw100g1c08u.cch3= 0\n"
       ]
      },
      {
       "output_type": "stream",
       "stream": "stderr",
       "text": [
        "WARNING:aphla.aptools:Timeout at restoring dw100g1c08u.cch3= 0\n"
       ]
      },
      {
       "output_type": "stream",
       "stream": "stdout",
       "text": [
        "Timeout at restoring dw100g1c08u.cch3= 0\n"
       ]
      },
      {
       "output_type": "stream",
       "stream": "stderr",
       "text": [
        "WARNING:aphla.aptools:Timeout at dw100g1c08u.cch4= -3.0, i= 0, delta= -3.0\n"
       ]
      },
      {
       "output_type": "stream",
       "stream": "stdout",
       "text": [
        "dw100g1c08u.cch4= 0\n"
       ]
      },
      {
       "output_type": "stream",
       "stream": "stderr",
       "text": [
        "WARNING:aphla.aptools:Timeout at dw100g1c08u.cch4= -1.0, i= 1, delta= -1.0\n"
       ]
      },
      {
       "output_type": "stream",
       "stream": "stdout",
       "text": [
        "dw100g1c08u.cch4= 0\n"
       ]
      },
      {
       "output_type": "stream",
       "stream": "stderr",
       "text": [
        "WARNING:aphla.aptools:Timeout at dw100g1c08u.cch4= 1.0, i= 2, delta= 1.0\n"
       ]
      },
      {
       "output_type": "stream",
       "stream": "stdout",
       "text": [
        "dw100g1c08u.cch4= 0\n"
       ]
      },
      {
       "output_type": "stream",
       "stream": "stderr",
       "text": [
        "WARNING:aphla.aptools:Timeout at dw100g1c08u.cch4= 3.0, i= 3, delta= 3.0\n"
       ]
      },
      {
       "output_type": "stream",
       "stream": "stdout",
       "text": [
        "dw100g1c08u.cch4= 0\n"
       ]
      },
      {
       "output_type": "stream",
       "stream": "stderr",
       "text": [
        "WARNING:aphla.aptools:Timeout at restoring dw100g1c08u.cch4= 0\n"
       ]
      },
      {
       "output_type": "stream",
       "stream": "stdout",
       "text": [
        "Timeout at restoring dw100g1c08u.cch4= 0\n"
       ]
      },
      {
       "output_type": "stream",
       "stream": "stderr",
       "text": [
        "WARNING:aphla.aptools:Timeout at dw100g1c08u.cch5= -3.0, i= 0, delta= -3.0\n"
       ]
      },
      {
       "output_type": "stream",
       "stream": "stdout",
       "text": [
        "dw100g1c08u.cch5= 0\n"
       ]
      },
      {
       "output_type": "stream",
       "stream": "stderr",
       "text": [
        "WARNING:aphla.aptools:Timeout at dw100g1c08u.cch5= -1.0, i= 1, delta= -1.0\n"
       ]
      },
      {
       "output_type": "stream",
       "stream": "stdout",
       "text": [
        "dw100g1c08u.cch5= 0\n"
       ]
      },
      {
       "output_type": "stream",
       "stream": "stderr",
       "text": [
        "WARNING:aphla.aptools:Timeout at dw100g1c08u.cch5= 1.0, i= 2, delta= 1.0\n"
       ]
      },
      {
       "output_type": "stream",
       "stream": "stdout",
       "text": [
        "dw100g1c08u.cch5= 0\n"
       ]
      },
      {
       "output_type": "stream",
       "stream": "stderr",
       "text": [
        "WARNING:aphla.aptools:Timeout at dw100g1c08u.cch5= 3.0, i= 3, delta= 3.0\n"
       ]
      },
      {
       "output_type": "stream",
       "stream": "stdout",
       "text": [
        "dw100g1c08u.cch5= 0\n"
       ]
      },
      {
       "output_type": "stream",
       "stream": "stderr",
       "text": [
        "WARNING:aphla.aptools:Timeout at restoring dw100g1c08u.cch5= 0\n"
       ]
      },
      {
       "output_type": "stream",
       "stream": "stdout",
       "text": [
        "Timeout at restoring dw100g1c08u.cch5= 0\n"
       ]
      },
      {
       "output_type": "stream",
       "stream": "stderr",
       "text": [
        "WARNING:aphla.aptools:Timeout at dw100g1c08u.cch0= -3.0, i= 0, delta= -3.0\n"
       ]
      },
      {
       "output_type": "stream",
       "stream": "stdout",
       "text": [
        "002/003: [['gap', 146.99999999999997, 0.1]]\n",
        "dw100g1c08u.cch0= 0"
       ]
      },
      {
       "output_type": "stream",
       "stream": "stdout",
       "text": [
        "\n"
       ]
      },
      {
       "output_type": "stream",
       "stream": "stderr",
       "text": [
        "WARNING:aphla.aptools:Timeout at dw100g1c08u.cch0= -1.0, i= 1, delta= -1.0\n"
       ]
      },
      {
       "output_type": "stream",
       "stream": "stdout",
       "text": [
        "dw100g1c08u.cch0= 0\n"
       ]
      },
      {
       "output_type": "stream",
       "stream": "stderr",
       "text": [
        "WARNING:aphla.aptools:Timeout at dw100g1c08u.cch0= 1.0, i= 2, delta= 1.0\n"
       ]
      },
      {
       "output_type": "stream",
       "stream": "stdout",
       "text": [
        "dw100g1c08u.cch0= 0\n"
       ]
      },
      {
       "output_type": "stream",
       "stream": "stderr",
       "text": [
        "WARNING:aphla.aptools:Timeout at dw100g1c08u.cch0= 3.0, i= 3, delta= 3.0\n"
       ]
      },
      {
       "output_type": "stream",
       "stream": "stdout",
       "text": [
        "dw100g1c08u.cch0= 0\n"
       ]
      },
      {
       "output_type": "stream",
       "stream": "stderr",
       "text": [
        "WARNING:aphla.aptools:Timeout at restoring dw100g1c08u.cch0= 0\n"
       ]
      },
      {
       "output_type": "stream",
       "stream": "stdout",
       "text": [
        "Timeout at restoring dw100g1c08u.cch0= 0\n"
       ]
      },
      {
       "output_type": "stream",
       "stream": "stderr",
       "text": [
        "WARNING:aphla.aptools:Timeout at dw100g1c08u.cch1= -3.0, i= 0, delta= -3.0\n"
       ]
      },
      {
       "output_type": "stream",
       "stream": "stdout",
       "text": [
        "dw100g1c08u.cch1= 0\n"
       ]
      },
      {
       "output_type": "stream",
       "stream": "stderr",
       "text": [
        "WARNING:aphla.aptools:Timeout at dw100g1c08u.cch1= -1.0, i= 1, delta= -1.0\n"
       ]
      },
      {
       "output_type": "stream",
       "stream": "stdout",
       "text": [
        "dw100g1c08u.cch1= 0\n"
       ]
      },
      {
       "output_type": "stream",
       "stream": "stderr",
       "text": [
        "WARNING:aphla.aptools:Timeout at dw100g1c08u.cch1= 1.0, i= 2, delta= 1.0\n"
       ]
      },
      {
       "output_type": "stream",
       "stream": "stdout",
       "text": [
        "dw100g1c08u.cch1= 0\n"
       ]
      },
      {
       "output_type": "stream",
       "stream": "stderr",
       "text": [
        "WARNING:aphla.aptools:Timeout at dw100g1c08u.cch1= 3.0, i= 3, delta= 3.0\n"
       ]
      },
      {
       "output_type": "stream",
       "stream": "stdout",
       "text": [
        "dw100g1c08u.cch1= 0\n"
       ]
      },
      {
       "output_type": "stream",
       "stream": "stderr",
       "text": [
        "WARNING:aphla.aptools:Timeout at restoring dw100g1c08u.cch1= 0\n"
       ]
      },
      {
       "output_type": "stream",
       "stream": "stdout",
       "text": [
        "Timeout at restoring dw100g1c08u.cch1= 0\n"
       ]
      },
      {
       "output_type": "stream",
       "stream": "stderr",
       "text": [
        "WARNING:aphla.aptools:Timeout at dw100g1c08u.cch2= -3.0, i= 0, delta= -3.0\n"
       ]
      },
      {
       "output_type": "stream",
       "stream": "stdout",
       "text": [
        "dw100g1c08u.cch2= 0\n"
       ]
      },
      {
       "output_type": "stream",
       "stream": "stderr",
       "text": [
        "WARNING:aphla.aptools:Timeout at dw100g1c08u.cch2= -1.0, i= 1, delta= -1.0\n"
       ]
      },
      {
       "output_type": "stream",
       "stream": "stdout",
       "text": [
        "dw100g1c08u.cch2= 0\n"
       ]
      },
      {
       "output_type": "stream",
       "stream": "stderr",
       "text": [
        "WARNING:aphla.aptools:Timeout at dw100g1c08u.cch2= 1.0, i= 2, delta= 1.0\n"
       ]
      },
      {
       "output_type": "stream",
       "stream": "stdout",
       "text": [
        "dw100g1c08u.cch2= 0\n"
       ]
      },
      {
       "output_type": "stream",
       "stream": "stderr",
       "text": [
        "WARNING:aphla.aptools:Timeout at dw100g1c08u.cch2= 3.0, i= 3, delta= 3.0\n"
       ]
      },
      {
       "output_type": "stream",
       "stream": "stdout",
       "text": [
        "dw100g1c08u.cch2= 0\n"
       ]
      },
      {
       "output_type": "stream",
       "stream": "stderr",
       "text": [
        "WARNING:aphla.aptools:Timeout at restoring dw100g1c08u.cch2= 0\n"
       ]
      },
      {
       "output_type": "stream",
       "stream": "stdout",
       "text": [
        "Timeout at restoring dw100g1c08u.cch2= 0\n"
       ]
      },
      {
       "output_type": "stream",
       "stream": "stderr",
       "text": [
        "WARNING:aphla.aptools:Timeout at dw100g1c08u.cch3= -3.0, i= 0, delta= -3.0\n"
       ]
      },
      {
       "output_type": "stream",
       "stream": "stdout",
       "text": [
        "dw100g1c08u.cch3= 0\n"
       ]
      },
      {
       "output_type": "stream",
       "stream": "stderr",
       "text": [
        "WARNING:aphla.aptools:Timeout at dw100g1c08u.cch3= -1.0, i= 1, delta= -1.0\n"
       ]
      },
      {
       "output_type": "stream",
       "stream": "stdout",
       "text": [
        "dw100g1c08u.cch3= 0\n"
       ]
      },
      {
       "output_type": "stream",
       "stream": "stderr",
       "text": [
        "WARNING:aphla.aptools:Timeout at dw100g1c08u.cch3= 1.0, i= 2, delta= 1.0\n"
       ]
      },
      {
       "output_type": "stream",
       "stream": "stdout",
       "text": [
        "dw100g1c08u.cch3= 0\n"
       ]
      },
      {
       "output_type": "stream",
       "stream": "stderr",
       "text": [
        "WARNING:aphla.aptools:Timeout at dw100g1c08u.cch3= 3.0, i= 3, delta= 3.0\n"
       ]
      },
      {
       "output_type": "stream",
       "stream": "stdout",
       "text": [
        "dw100g1c08u.cch3= 0\n"
       ]
      },
      {
       "output_type": "stream",
       "stream": "stderr",
       "text": [
        "WARNING:aphla.aptools:Timeout at restoring dw100g1c08u.cch3= 0\n"
       ]
      },
      {
       "output_type": "stream",
       "stream": "stdout",
       "text": [
        "Timeout at restoring dw100g1c08u.cch3= 0\n"
       ]
      },
      {
       "output_type": "stream",
       "stream": "stderr",
       "text": [
        "WARNING:aphla.aptools:Timeout at dw100g1c08u.cch4= -3.0, i= 0, delta= -3.0\n"
       ]
      },
      {
       "output_type": "stream",
       "stream": "stdout",
       "text": [
        "dw100g1c08u.cch4= 0\n"
       ]
      },
      {
       "output_type": "stream",
       "stream": "stderr",
       "text": [
        "WARNING:aphla.aptools:Timeout at dw100g1c08u.cch4= -1.0, i= 1, delta= -1.0\n"
       ]
      },
      {
       "output_type": "stream",
       "stream": "stdout",
       "text": [
        "dw100g1c08u.cch4= 0\n"
       ]
      },
      {
       "output_type": "stream",
       "stream": "stderr",
       "text": [
        "WARNING:aphla.aptools:Timeout at dw100g1c08u.cch4= 1.0, i= 2, delta= 1.0\n"
       ]
      },
      {
       "output_type": "stream",
       "stream": "stdout",
       "text": [
        "dw100g1c08u.cch4= 0\n"
       ]
      },
      {
       "output_type": "stream",
       "stream": "stderr",
       "text": [
        "WARNING:aphla.aptools:Timeout at dw100g1c08u.cch4= 3.0, i= 3, delta= 3.0\n"
       ]
      },
      {
       "output_type": "stream",
       "stream": "stdout",
       "text": [
        "dw100g1c08u.cch4= 0\n"
       ]
      },
      {
       "output_type": "stream",
       "stream": "stderr",
       "text": [
        "WARNING:aphla.aptools:Timeout at restoring dw100g1c08u.cch4= 0\n"
       ]
      },
      {
       "output_type": "stream",
       "stream": "stdout",
       "text": [
        "Timeout at restoring dw100g1c08u.cch4= 0\n"
       ]
      },
      {
       "output_type": "stream",
       "stream": "stderr",
       "text": [
        "WARNING:aphla.aptools:Timeout at dw100g1c08u.cch5= -3.0, i= 0, delta= -3.0\n"
       ]
      },
      {
       "output_type": "stream",
       "stream": "stdout",
       "text": [
        "dw100g1c08u.cch5= 0\n"
       ]
      },
      {
       "output_type": "stream",
       "stream": "stderr",
       "text": [
        "WARNING:aphla.aptools:Timeout at dw100g1c08u.cch5= -1.0, i= 1, delta= -1.0\n"
       ]
      },
      {
       "output_type": "stream",
       "stream": "stdout",
       "text": [
        "dw100g1c08u.cch5= 0\n"
       ]
      },
      {
       "output_type": "stream",
       "stream": "stderr",
       "text": [
        "WARNING:aphla.aptools:Timeout at dw100g1c08u.cch5= 1.0, i= 2, delta= 1.0\n"
       ]
      },
      {
       "output_type": "stream",
       "stream": "stdout",
       "text": [
        "dw100g1c08u.cch5= 0\n"
       ]
      },
      {
       "output_type": "stream",
       "stream": "stderr",
       "text": [
        "WARNING:aphla.aptools:Timeout at dw100g1c08u.cch5= 3.0, i= 3, delta= 3.0\n"
       ]
      },
      {
       "output_type": "stream",
       "stream": "stdout",
       "text": [
        "dw100g1c08u.cch5= 0\n"
       ]
      },
      {
       "output_type": "stream",
       "stream": "stderr",
       "text": [
        "WARNING:aphla.aptools:Timeout at restoring dw100g1c08u.cch5= 0\n"
       ]
      },
      {
       "output_type": "stream",
       "stream": "stdout",
       "text": [
        "Timeout at restoring dw100g1c08u.cch5= 0\n"
       ]
      }
     ],
     "prompt_number": 13
    },
    {
     "cell_type": "code",
     "collapsed": false,
     "input": [
      "dw = ap.getElements('dw100g1c08u')[0]\n",
      "dw.cch0 = 3"
     ],
     "language": "python",
     "metadata": {},
     "outputs": [],
     "prompt_number": 53
    },
    {
     "cell_type": "code",
     "collapsed": false,
     "input": [
      "'''\n",
      ". switch off all running feed-back/forward system, \n",
      "  which can interface the ID commissioning, and record\n",
      "  their status. Re-start them after commissioning is done\n",
      "\n",
      ". check if beam has decent current, lifetime, if vacuum\n",
      "  temperture monitor readings are within the ranges (Yongjun: done, chkBeam)\n",
      "  \n",
      ". choose which ID needs to be commissioned, then\n",
      "  move its gap and phase from min to max to check if motors\n",
      "  can work properly; (Yongjun: done, chkID)\n",
      "  change correction coil current within its allowed ranges, and \n",
      "  compare the setpoint with readback (unit test)\n",
      "\n",
      ". define file name for archive data, file name should be self-explanatory including\n",
      "  ID name, date, and so on (Yongjun: done, genFileNamem genGroupName)\n",
      "\n",
      ". open the gap to max, and phase to zero, swith off on-board \n",
      "  correctors, then after correcting orbit using the ring correctors, \n",
      "  record it as the golden orbit for the reference\n",
      "\n",
      ". if it is a DW, pair it with its adjacent one to commission them together.\n",
      "  all six neighboring quadrupoles need to be added some extra \n",
      "  dI and cycle magnet for linear optics compensation\n",
      "  \n",
      ". based on gap/phase ranges to create a iterative list for loop (Yongjun-done, createParList)\n",
      "  \n",
      ". start main loop to change gap/phase with given stepsize, decide \n",
      "  how frequently we need to re-calibrate the golden orbit (using aphla)\n",
      "\n",
      "    * set gap/phase, wait motors to move, verify gap/phase status\n",
      "      if fails, re-try several times, if fails again, raise error (Yongjun-done)\n",
      "      \n",
      "    * check beam current and lifetime, continue if it is OK, otherwise\n",
      "      re-inject some decent current (Yongjun)\n",
      "    \n",
      "    * change on-board corrector current to measure their ORM (using aphla)\n",
      "    \n",
      "    * apply measured ORM to eliminate orbit distortion (relative to the golden)\n",
      "      iteration might be needed to achieve the best performance (using aphla)\n",
      "\n",
      "    * excite beam to get tbt data to extract linear optics offline, change RF to measure\n",
      "      dispersion (using exsiting code)\n",
      "\n",
      "    * measure beam lifetime \n",
      "    \n",
      "    * archive data to hdf5 file's subgroup with gap/phase info\n",
      "    \n",
      "    * if needed, re-calibrate the golden orbit to refresh, then continue the loop\n",
      "    \n",
      "    * if fail, raise error to indicate loop index, so we can continue rather than\n",
      "      restart after machine is restored\n",
      "\n",
      ". ananlyze data, collect on-board correction current at different gap/phase to create\n",
      "  feed-forward table\n",
      "  \n",
      ". restore machine to the status before commissioning, restart orbit feed-back system\n",
      "\n",
      ". archive hdf5 path/name to IDDB\n",
      "'''"
     ],
     "language": "python",
     "metadata": {},
     "outputs": []
    }
   ],
   "metadata": {}
  }
 ]
}