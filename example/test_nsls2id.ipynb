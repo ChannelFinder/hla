{
 "metadata": {
  "name": "",
  "signature": "sha256:083b19c6c36015783dfba9ce77edfae1756410017846b40dafa3bffc7b843c44"
 },
 "nbformat": 3,
 "nbformat_minor": 0,
 "worksheets": [
  {
   "cells": [
    {
     "cell_type": "code",
     "collapsed": false,
     "input": [
      "import sys\n",
      "import time\n",
      "import matplotlib.pylab as plt\n",
      "import numpy as np\n",
      "import scipy as sp\n",
      "import copy\n",
      "import h5py\n",
      "import aphla as ap\n",
      "\n",
      "ap.machines.load('nsls2','SR')"
     ],
     "language": "python",
     "metadata": {},
     "outputs": [],
     "prompt_number": 8
    },
    {
     "cell_type": "code",
     "collapsed": false,
     "input": [
      "import nsls2id\n",
      "reload(nsls2id)"
     ],
     "language": "python",
     "metadata": {},
     "outputs": [
      {
       "metadata": {},
       "output_type": "pyout",
       "prompt_number": 9,
       "text": [
        "<module 'nsls2id' from 'nsls2id.py'>"
       ]
      }
     ],
     "prompt_number": 9
    },
    {
     "cell_type": "code",
     "collapsed": false,
     "input": [
      "dws = ap.getElements('DW')\n",
      "dw28u = dws[4]\n",
      "dw28d = dws[5]"
     ],
     "language": "python",
     "metadata": {},
     "outputs": [],
     "prompt_number": 3
    },
    {
     "cell_type": "code",
     "collapsed": false,
     "input": [
      "parList = [['gap',20,0.01]]\n",
      "nsls2id.putPar(dw28u,parList,timeout=30, \n",
      "               throw=True,unitsys='phy',verbose=False)"
     ],
     "language": "python",
     "metadata": {},
     "outputs": []
    },
    {
     "cell_type": "code",
     "collapsed": false,
     "input": [
      "nsls2id.checkGapPhase(dw28u,gapMin=15,gapMax=150,gapStep=3,gapTol=0.01)"
     ],
     "language": "python",
     "metadata": {},
     "outputs": []
    },
    {
     "cell_type": "code",
     "collapsed": false,
     "input": [
      "nsls2id.checkBeam()"
     ],
     "language": "python",
     "metadata": {},
     "outputs": [
      {
       "output_type": "stream",
       "stream": "stdout",
       "text": [
        "Beam current too low (0.00703889316745 < 2)\n"
       ]
      },
      {
       "metadata": {},
       "output_type": "pyout",
       "prompt_number": 7,
       "text": [
        "False"
       ]
      }
     ],
     "prompt_number": 7
    },
    {
     "cell_type": "code",
     "collapsed": false,
     "input": [
      "# 2D table\n",
      "gapMin,gapMax,gapStep = 5,15,6\n",
      "phaseMin,phaseMax,phaseStep = 24.5,-24.5,21\n",
      "parRange =[['gap','log',gapMin,gapMax,gapStep,0.1],\n",
      "           ['phase','linear',phaseMax,phaseMin,phaseStep,0.1]]\n",
      "parList,nameList,valueList,table = nsls2id.createParList(parRange)\n",
      "\n",
      "for ci in table:\n",
      "    plt.plot(ci[1],ci[0],'ko')\n",
      "plt.xlabel('phase')\n",
      "plt.ylabel('gap')\n",
      "plt.show()\n"
     ],
     "language": "python",
     "metadata": {},
     "outputs": [
      {
       "metadata": {},
       "output_type": "display_data",
       "png": "[encoded data removed]"
      }
     ],
     "prompt_number": 4
    },
    {
     "cell_type": "code",
     "collapsed": false,
     "input": [
      "# 1D\n",
      "gapMin,gapMax,gapStep = 5,15,6\n",
      "parRange =[['gap','log',gapMin,gapMax,gapStep,0.1],]\n",
      "parList,nameList,valueList,table = nsls2id.createParList(parRange)\n",
      "\n",
      "for ci in table:\n",
      "    plt.plot(ci[0],'ko')\n",
      "plt.ylabel('gap')\n",
      "plt.show()\n"
     ],
     "language": "python",
     "metadata": {},
     "outputs": [
      {
       "metadata": {},
       "output_type": "display_data",
       "png": "[encoded data removed]"
      }
     ],
     "prompt_number": 6
    },
    {
     "cell_type": "code",
     "collapsed": false,
     "input": [
      "# Body of commissioning\n",
      "\n",
      "import sys\n",
      "\n",
      "# parameter List, will read from DB or specified by user\n",
      "Imin = 2\n",
      "Tmin = 2\n",
      "IDName = 'dw100g1c08u'\n",
      "gapMin = 15\n",
      "gapMax = 150\n",
      "gapTol = 0.1\n",
      "gapStep = 30\n",
      "timeout = 150\n",
      "throw = False\n",
      "unitsys = 'phy'\n",
      "verbose = False\n",
      "dispersion = False\n",
      "Tbt = False\n",
      "\n",
      "parRange =[['gap','log',gapMax,gapMin,gapStep,gapTol]]\n",
      "nbkgrd = 3  # redo background check after nbkgrd iterative status\n",
      "userBpm = False # if user BPM included\n",
      "\n",
      "### pre-check ###\n",
      "\n",
      "#--- switch off other orbit feedback\n",
      "nsls2id.switchoffFeedback()\n",
      "\n",
      "#--- check beam conditions\n",
      "if nsls2id.checkBeam(Imin=Imin,Tmin=Tmin):\n",
      "    continue\n",
      "else:\n",
      "    sys.exit(0)\n",
      "\n",
      "#--- get ID instance\n",
      "ID = ap.getElements(IDName)[0]\n",
      "\n",
      "#--- check ID gap and phase control\n",
      "if checkGapPhase(ID,gapMin=gapMin,gapMax=gapMax,gapStep=3,gapTol=gapTol,timeout=150):\n",
      "    continue\n",
      "else:\n",
      "    sys.exit(0)\n",
      "\n",
      "#--- create parameter list for loop, name and table for hdf5 \n",
      "parList,nameList,valueList,table = nsls2id.createParList(parRange)\n",
      "\n",
      "#--- initilize filename and save configuration\n",
      "fname = nsls2id.initFile(ID)\n",
      "\n",
      "#--- BPM and on-board corrector list for orbit ORM measurement\n",
      "bpmFields,corFields = nsls2id.chooseBpmCor(ID,userBpm=userBpm)\n",
      "\n",
      "\n",
      "#--- switch on orbit feed back\n",
      "nsls2id.switchonFeedback()\n",
      "\n",
      "#--- save file name and path to database\n",
      "nsls2id.saveToDB(fileName)"
     ],
     "language": "python",
     "metadata": {},
     "outputs": []
    }
   ],
   "metadata": {}
  }
 ]
}